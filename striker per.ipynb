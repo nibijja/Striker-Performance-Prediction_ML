{
 "cells": [
  {
   "cell_type": "code",
   "execution_count": 1,
   "id": "aba5548c",
   "metadata": {},
   "outputs": [],
   "source": [
    "import numpy as np\n",
    "from keras.models import Sequential\n",
    "from keras.layers import Dense\n",
    "from keras.layers import Dropout\n",
    "from keras.layers import LSTM\n",
    "import sklearn.metrics as sm\n",
    "import matplotlib.pyplot as plt\n",
    "import pandas as pd"
   ]
  },
  {
   "cell_type": "markdown",
   "id": "1bc89f54",
   "metadata": {},
   "source": [
    "# **Read File**"
   ]
  },
  {
   "cell_type": "code",
   "execution_count": 2,
   "id": "1e124784",
   "metadata": {},
   "outputs": [],
   "source": [
    "data = pd.read_csv('statsi.csv')"
   ]
  },
  {
   "cell_type": "code",
   "execution_count": 3,
   "id": "f7a48d15",
   "metadata": {},
   "outputs": [
    {
     "data": {
      "text/html": [
       "<div>\n",
       "<style scoped>\n",
       "    .dataframe tbody tr th:only-of-type {\n",
       "        vertical-align: middle;\n",
       "    }\n",
       "\n",
       "    .dataframe tbody tr th {\n",
       "        vertical-align: top;\n",
       "    }\n",
       "\n",
       "    .dataframe thead th {\n",
       "        text-align: right;\n",
       "    }\n",
       "</style>\n",
       "<table border=\"1\" class=\"dataframe\">\n",
       "  <thead>\n",
       "    <tr style=\"text-align: right;\">\n",
       "      <th></th>\n",
       "      <th>full_name</th>\n",
       "      <th>birthday</th>\n",
       "      <th>birthday_GMT</th>\n",
       "      <th>league</th>\n",
       "      <th>season</th>\n",
       "      <th>position</th>\n",
       "      <th>Current Club</th>\n",
       "      <th>minutes_played_home</th>\n",
       "      <th>minutes_played_away</th>\n",
       "      <th>nationality</th>\n",
       "      <th>...</th>\n",
       "      <th>min_per_conceded_overall</th>\n",
       "      <th>min_per_match</th>\n",
       "      <th>min_per_card_overall</th>\n",
       "      <th>min_per_assist_overall</th>\n",
       "      <th>cards_per_90_overall</th>\n",
       "      <th>rank_in_club_top_scorer</th>\n",
       "      <th>rank_frac</th>\n",
       "      <th>rank_in_league_top_Strikers</th>\n",
       "      <th>rank_in_league_top_Strikers.1</th>\n",
       "      <th>rank_in_league_top_attackers</th>\n",
       "    </tr>\n",
       "  </thead>\n",
       "  <tbody>\n",
       "    <tr>\n",
       "      <th>0</th>\n",
       "      <td>Stefan Marius Johansen</td>\n",
       "      <td>663292800</td>\n",
       "      <td>08-01-91</td>\n",
       "      <td>Premier League</td>\n",
       "      <td>2018/2019</td>\n",
       "      <td>Striker</td>\n",
       "      <td>Fulham</td>\n",
       "      <td>130</td>\n",
       "      <td>282</td>\n",
       "      <td>Norway</td>\n",
       "      <td>...</td>\n",
       "      <td>37</td>\n",
       "      <td>34</td>\n",
       "      <td>103</td>\n",
       "      <td>0</td>\n",
       "      <td>0.87</td>\n",
       "      <td>24</td>\n",
       "      <td>-1.000000</td>\n",
       "      <td>-1</td>\n",
       "      <td>401</td>\n",
       "      <td>318</td>\n",
       "    </tr>\n",
       "    <tr>\n",
       "      <th>1</th>\n",
       "      <td>Kevin McDonald</td>\n",
       "      <td>594604800</td>\n",
       "      <td>04-11-88</td>\n",
       "      <td>Premier League</td>\n",
       "      <td>2018/2019</td>\n",
       "      <td>Striker</td>\n",
       "      <td>Fulham</td>\n",
       "      <td>399</td>\n",
       "      <td>443</td>\n",
       "      <td>Scotland</td>\n",
       "      <td>...</td>\n",
       "      <td>34</td>\n",
       "      <td>56</td>\n",
       "      <td>140</td>\n",
       "      <td>0</td>\n",
       "      <td>0.64</td>\n",
       "      <td>25</td>\n",
       "      <td>-1.727273</td>\n",
       "      <td>-1</td>\n",
       "      <td>410</td>\n",
       "      <td>317</td>\n",
       "    </tr>\n",
       "    <tr>\n",
       "      <th>2</th>\n",
       "      <td>Sebastian Prödl</td>\n",
       "      <td>551232000</td>\n",
       "      <td>21-06-87</td>\n",
       "      <td>Premier League</td>\n",
       "      <td>2018/2019</td>\n",
       "      <td>Striker</td>\n",
       "      <td>Watford</td>\n",
       "      <td>0</td>\n",
       "      <td>13</td>\n",
       "      <td>Austria</td>\n",
       "      <td>...</td>\n",
       "      <td>0</td>\n",
       "      <td>13</td>\n",
       "      <td>0</td>\n",
       "      <td>0</td>\n",
       "      <td>0.00</td>\n",
       "      <td>22</td>\n",
       "      <td>1.000000</td>\n",
       "      <td>-1</td>\n",
       "      <td>-1</td>\n",
       "      <td>-1</td>\n",
       "    </tr>\n",
       "    <tr>\n",
       "      <th>3</th>\n",
       "      <td>James McCarthy</td>\n",
       "      <td>658368000</td>\n",
       "      <td>12-11-90</td>\n",
       "      <td>Premier League</td>\n",
       "      <td>2018/2019</td>\n",
       "      <td>Striker</td>\n",
       "      <td>Everton</td>\n",
       "      <td>14</td>\n",
       "      <td>0</td>\n",
       "      <td>Republic of Ireland</td>\n",
       "      <td>...</td>\n",
       "      <td>0</td>\n",
       "      <td>14</td>\n",
       "      <td>0</td>\n",
       "      <td>0</td>\n",
       "      <td>0.00</td>\n",
       "      <td>22</td>\n",
       "      <td>1.000000</td>\n",
       "      <td>-1</td>\n",
       "      <td>-1</td>\n",
       "      <td>-1</td>\n",
       "    </tr>\n",
       "    <tr>\n",
       "      <th>4</th>\n",
       "      <td>Emerson Hyndman</td>\n",
       "      <td>829008000</td>\n",
       "      <td>09-04-96</td>\n",
       "      <td>Premier League</td>\n",
       "      <td>2018/2019</td>\n",
       "      <td>Striker</td>\n",
       "      <td>AFC Bournemouth</td>\n",
       "      <td>0</td>\n",
       "      <td>37</td>\n",
       "      <td>USA</td>\n",
       "      <td>...</td>\n",
       "      <td>19</td>\n",
       "      <td>37</td>\n",
       "      <td>0</td>\n",
       "      <td>0</td>\n",
       "      <td>0.00</td>\n",
       "      <td>14</td>\n",
       "      <td>0.181818</td>\n",
       "      <td>-1</td>\n",
       "      <td>-1</td>\n",
       "      <td>-1</td>\n",
       "    </tr>\n",
       "    <tr>\n",
       "      <th>...</th>\n",
       "      <td>...</td>\n",
       "      <td>...</td>\n",
       "      <td>...</td>\n",
       "      <td>...</td>\n",
       "      <td>...</td>\n",
       "      <td>...</td>\n",
       "      <td>...</td>\n",
       "      <td>...</td>\n",
       "      <td>...</td>\n",
       "      <td>...</td>\n",
       "      <td>...</td>\n",
       "      <td>...</td>\n",
       "      <td>...</td>\n",
       "      <td>...</td>\n",
       "      <td>...</td>\n",
       "      <td>...</td>\n",
       "      <td>...</td>\n",
       "      <td>...</td>\n",
       "      <td>...</td>\n",
       "      <td>...</td>\n",
       "      <td>...</td>\n",
       "    </tr>\n",
       "    <tr>\n",
       "      <th>380</th>\n",
       "      <td>Leroy Sané</td>\n",
       "      <td>821318400</td>\n",
       "      <td>11-01-96</td>\n",
       "      <td>Premier League</td>\n",
       "      <td>2018/2019</td>\n",
       "      <td>Striker</td>\n",
       "      <td>Manchester City</td>\n",
       "      <td>1024</td>\n",
       "      <td>843</td>\n",
       "      <td>Germany</td>\n",
       "      <td>...</td>\n",
       "      <td>133</td>\n",
       "      <td>60</td>\n",
       "      <td>1867</td>\n",
       "      <td>187</td>\n",
       "      <td>0.05</td>\n",
       "      <td>3</td>\n",
       "      <td>33.692727</td>\n",
       "      <td>-1</td>\n",
       "      <td>4</td>\n",
       "      <td>19</td>\n",
       "    </tr>\n",
       "    <tr>\n",
       "      <th>381</th>\n",
       "      <td>Gylfi Sigurdsson</td>\n",
       "      <td>621216000</td>\n",
       "      <td>08-09-89</td>\n",
       "      <td>Premier League</td>\n",
       "      <td>2018/2019</td>\n",
       "      <td>Striker</td>\n",
       "      <td>Everton</td>\n",
       "      <td>1602</td>\n",
       "      <td>1532</td>\n",
       "      <td>Iceland</td>\n",
       "      <td>...</td>\n",
       "      <td>78</td>\n",
       "      <td>82</td>\n",
       "      <td>1045</td>\n",
       "      <td>522</td>\n",
       "      <td>0.09</td>\n",
       "      <td>2</td>\n",
       "      <td>33.226364</td>\n",
       "      <td>-1</td>\n",
       "      <td>86</td>\n",
       "      <td>43</td>\n",
       "    </tr>\n",
       "    <tr>\n",
       "      <th>382</th>\n",
       "      <td>Paul Pogba</td>\n",
       "      <td>732153600</td>\n",
       "      <td>15-03-93</td>\n",
       "      <td>Premier League</td>\n",
       "      <td>2018/2019</td>\n",
       "      <td>Striker</td>\n",
       "      <td>Manchester United</td>\n",
       "      <td>1517</td>\n",
       "      <td>1494</td>\n",
       "      <td>France</td>\n",
       "      <td>...</td>\n",
       "      <td>73</td>\n",
       "      <td>86</td>\n",
       "      <td>502</td>\n",
       "      <td>335</td>\n",
       "      <td>0.18</td>\n",
       "      <td>1</td>\n",
       "      <td>34.047273</td>\n",
       "      <td>-1</td>\n",
       "      <td>30</td>\n",
       "      <td>37</td>\n",
       "    </tr>\n",
       "    <tr>\n",
       "      <th>383</th>\n",
       "      <td>Luka Milivojević</td>\n",
       "      <td>670982400</td>\n",
       "      <td>07-04-91</td>\n",
       "      <td>Premier League</td>\n",
       "      <td>2018/2019</td>\n",
       "      <td>Striker</td>\n",
       "      <td>Crystal Palace</td>\n",
       "      <td>1710</td>\n",
       "      <td>1710</td>\n",
       "      <td>Serbia</td>\n",
       "      <td>...</td>\n",
       "      <td>73</td>\n",
       "      <td>90</td>\n",
       "      <td>342</td>\n",
       "      <td>1710</td>\n",
       "      <td>0.26</td>\n",
       "      <td>1</td>\n",
       "      <td>39.012727</td>\n",
       "      <td>-1</td>\n",
       "      <td>210</td>\n",
       "      <td>59</td>\n",
       "    </tr>\n",
       "    <tr>\n",
       "      <th>384</th>\n",
       "      <td>Eden Hazard</td>\n",
       "      <td>663206400</td>\n",
       "      <td>07-01-91</td>\n",
       "      <td>Premier League</td>\n",
       "      <td>2018/2019</td>\n",
       "      <td>Striker</td>\n",
       "      <td>Chelsea</td>\n",
       "      <td>1527</td>\n",
       "      <td>1399</td>\n",
       "      <td>Belgium</td>\n",
       "      <td>...</td>\n",
       "      <td>86</td>\n",
       "      <td>79</td>\n",
       "      <td>1463</td>\n",
       "      <td>195</td>\n",
       "      <td>0.06</td>\n",
       "      <td>1</td>\n",
       "      <td>48.490909</td>\n",
       "      <td>-1</td>\n",
       "      <td>5</td>\n",
       "      <td>18</td>\n",
       "    </tr>\n",
       "  </tbody>\n",
       "</table>\n",
       "<p>385 rows × 49 columns</p>\n",
       "</div>"
      ],
      "text/plain": [
       "                  full_name   birthday birthday_GMT          league  \\\n",
       "0    Stefan Marius Johansen  663292800     08-01-91  Premier League   \n",
       "1            Kevin McDonald  594604800     04-11-88  Premier League   \n",
       "2           Sebastian Prödl  551232000     21-06-87  Premier League   \n",
       "3            James McCarthy  658368000     12-11-90  Premier League   \n",
       "4           Emerson Hyndman  829008000     09-04-96  Premier League   \n",
       "..                      ...        ...          ...             ...   \n",
       "380              Leroy Sané  821318400     11-01-96  Premier League   \n",
       "381        Gylfi Sigurdsson  621216000     08-09-89  Premier League   \n",
       "382              Paul Pogba  732153600     15-03-93  Premier League   \n",
       "383        Luka Milivojević  670982400     07-04-91  Premier League   \n",
       "384             Eden Hazard  663206400     07-01-91  Premier League   \n",
       "\n",
       "        season position       Current Club  minutes_played_home  \\\n",
       "0    2018/2019  Striker             Fulham                  130   \n",
       "1    2018/2019  Striker             Fulham                  399   \n",
       "2    2018/2019  Striker            Watford                    0   \n",
       "3    2018/2019  Striker            Everton                   14   \n",
       "4    2018/2019  Striker    AFC Bournemouth                    0   \n",
       "..         ...      ...                ...                  ...   \n",
       "380  2018/2019  Striker    Manchester City                 1024   \n",
       "381  2018/2019  Striker            Everton                 1602   \n",
       "382  2018/2019  Striker  Manchester United                 1517   \n",
       "383  2018/2019  Striker     Crystal Palace                 1710   \n",
       "384  2018/2019  Striker            Chelsea                 1527   \n",
       "\n",
       "     minutes_played_away          nationality  ...  min_per_conceded_overall  \\\n",
       "0                    282               Norway  ...                        37   \n",
       "1                    443             Scotland  ...                        34   \n",
       "2                     13              Austria  ...                         0   \n",
       "3                      0  Republic of Ireland  ...                         0   \n",
       "4                     37                  USA  ...                        19   \n",
       "..                   ...                  ...  ...                       ...   \n",
       "380                  843              Germany  ...                       133   \n",
       "381                 1532              Iceland  ...                        78   \n",
       "382                 1494               France  ...                        73   \n",
       "383                 1710               Serbia  ...                        73   \n",
       "384                 1399              Belgium  ...                        86   \n",
       "\n",
       "     min_per_match  min_per_card_overall  min_per_assist_overall  \\\n",
       "0               34                   103                       0   \n",
       "1               56                   140                       0   \n",
       "2               13                     0                       0   \n",
       "3               14                     0                       0   \n",
       "4               37                     0                       0   \n",
       "..             ...                   ...                     ...   \n",
       "380             60                  1867                     187   \n",
       "381             82                  1045                     522   \n",
       "382             86                   502                     335   \n",
       "383             90                   342                    1710   \n",
       "384             79                  1463                     195   \n",
       "\n",
       "     cards_per_90_overall  rank_in_club_top_scorer  rank_frac  \\\n",
       "0                    0.87                       24  -1.000000   \n",
       "1                    0.64                       25  -1.727273   \n",
       "2                    0.00                       22   1.000000   \n",
       "3                    0.00                       22   1.000000   \n",
       "4                    0.00                       14   0.181818   \n",
       "..                    ...                      ...        ...   \n",
       "380                  0.05                        3  33.692727   \n",
       "381                  0.09                        2  33.226364   \n",
       "382                  0.18                        1  34.047273   \n",
       "383                  0.26                        1  39.012727   \n",
       "384                  0.06                        1  48.490909   \n",
       "\n",
       "     rank_in_league_top_Strikers  rank_in_league_top_Strikers.1  \\\n",
       "0                             -1                            401   \n",
       "1                             -1                            410   \n",
       "2                             -1                             -1   \n",
       "3                             -1                             -1   \n",
       "4                             -1                             -1   \n",
       "..                           ...                            ...   \n",
       "380                           -1                              4   \n",
       "381                           -1                             86   \n",
       "382                           -1                             30   \n",
       "383                           -1                            210   \n",
       "384                           -1                              5   \n",
       "\n",
       "     rank_in_league_top_attackers  \n",
       "0                             318  \n",
       "1                             317  \n",
       "2                              -1  \n",
       "3                              -1  \n",
       "4                              -1  \n",
       "..                            ...  \n",
       "380                            19  \n",
       "381                            43  \n",
       "382                            37  \n",
       "383                            59  \n",
       "384                            18  \n",
       "\n",
       "[385 rows x 49 columns]"
      ]
     },
     "execution_count": 3,
     "metadata": {},
     "output_type": "execute_result"
    }
   ],
   "source": [
    "data.head(385)"
   ]
  },
  {
   "cell_type": "code",
   "execution_count": 4,
   "id": "b85e4d2f",
   "metadata": {},
   "outputs": [
    {
     "data": {
      "text/plain": [
       "(385, 49)"
      ]
     },
     "execution_count": 4,
     "metadata": {},
     "output_type": "execute_result"
    }
   ],
   "source": [
    "data.shape"
   ]
  },
  {
   "cell_type": "code",
   "execution_count": 5,
   "id": "143b3b69",
   "metadata": {},
   "outputs": [
    {
     "name": "stdout",
     "output_type": "stream",
     "text": [
      "<class 'pandas.core.frame.DataFrame'>\n",
      "RangeIndex: 385 entries, 0 to 384\n",
      "Data columns (total 49 columns):\n",
      " #   Column                         Non-Null Count  Dtype  \n",
      "---  ------                         --------------  -----  \n",
      " 0   full_name                      385 non-null    object \n",
      " 1   birthday                       385 non-null    int64  \n",
      " 2   birthday_GMT                   385 non-null    object \n",
      " 3   league                         385 non-null    object \n",
      " 4   season                         385 non-null    object \n",
      " 5   position                       385 non-null    object \n",
      " 6   Current Club                   385 non-null    object \n",
      " 7   minutes_played_home            385 non-null    int64  \n",
      " 8   minutes_played_away            385 non-null    int64  \n",
      " 9   nationality                    385 non-null    object \n",
      " 10  appearances_home               385 non-null    int64  \n",
      " 11  appearances_away               385 non-null    int64  \n",
      " 12  age                            385 non-null    int64  \n",
      " 13  minutes_played_overall         385 non-null    int64  \n",
      " 14  appearances_overall            385 non-null    int64  \n",
      " 15  goals_overall                  385 non-null    int64  \n",
      " 16  assists_overall                385 non-null    int64  \n",
      " 17  penalty_goals                  385 non-null    int64  \n",
      " 18  penalty_misses                 385 non-null    int64  \n",
      " 19  conceded_overall               385 non-null    int64  \n",
      " 20  yellow_cards_overall           385 non-null    int64  \n",
      " 21  red_cards_overall              385 non-null    int64  \n",
      " 22  goals_involved_per_90_overall  385 non-null    float64\n",
      " 23  assists_per_90_overall         385 non-null    float64\n",
      " 24  goals_per_90_overall           385 non-null    float64\n",
      " 25  clean_sheets_overall           385 non-null    int64  \n",
      " 26  rank                           385 non-null    int64  \n",
      " 27  goals_home                     385 non-null    int64  \n",
      " 28  goals_away                     385 non-null    int64  \n",
      " 29  assists_home                   385 non-null    int64  \n",
      " 30  assists_away                   385 non-null    int64  \n",
      " 31  clean_sheets_home              385 non-null    int64  \n",
      " 32  clean_sheets_away              385 non-null    int64  \n",
      " 33  conceded_home                  385 non-null    int64  \n",
      " 34  conceded_away                  385 non-null    int64  \n",
      " 35  goals_per_90_home              385 non-null    float64\n",
      " 36  goals_per_90_away              385 non-null    float64\n",
      " 37  min_per_goal_overall           385 non-null    int64  \n",
      " 38  conceded_per_90_overall        385 non-null    float64\n",
      " 39  min_per_conceded_overall       385 non-null    int64  \n",
      " 40  min_per_match                  385 non-null    int64  \n",
      " 41  min_per_card_overall           385 non-null    int64  \n",
      " 42  min_per_assist_overall         385 non-null    int64  \n",
      " 43  cards_per_90_overall           385 non-null    float64\n",
      " 44  rank_in_club_top_scorer        385 non-null    int64  \n",
      " 45  rank_frac                      385 non-null    float64\n",
      " 46  rank_in_league_top_Strikers    385 non-null    int64  \n",
      " 47  rank_in_league_top_Strikers.1  385 non-null    int64  \n",
      " 48  rank_in_league_top_attackers   385 non-null    int64  \n",
      "dtypes: float64(8), int64(34), object(7)\n",
      "memory usage: 147.5+ KB\n"
     ]
    }
   ],
   "source": [
    "data.info()"
   ]
  },
  {
   "cell_type": "markdown",
   "id": "ff00d3f8",
   "metadata": {},
   "source": [
    "# **'x' is feature variables, 'y' is target variable**"
   ]
  },
  {
   "cell_type": "code",
   "execution_count": 6,
   "id": "12599bd5",
   "metadata": {},
   "outputs": [],
   "source": [
    "x = data[['minutes_played_overall',\n",
    "            'appearances_overall',\n",
    "            'goals_overall',\n",
    "            'assists_overall',\n",
    "            'penalty_goals',\n",
    "            'penalty_misses',\n",
    "            'conceded_overall',\n",
    "            'yellow_cards_overall',\n",
    "            'red_cards_overall',\n",
    "            'goals_involved_per_90_overall',\n",
    "            'assists_per_90_overall',\n",
    "            'goals_per_90_overall',\n",
    "            'clean_sheets_overall']]\n",
    "y = data['rank']"
   ]
  },
  {
   "cell_type": "markdown",
   "id": "8608c3ed",
   "metadata": {},
   "source": [
    "# train-test split, 80% training samples & 20% test samples"
   ]
  },
  {
   "cell_type": "code",
   "execution_count": 7,
   "id": "3ed1a9b9",
   "metadata": {},
   "outputs": [],
   "source": [
    "from sklearn.model_selection import train_test_split"
   ]
  },
  {
   "cell_type": "code",
   "execution_count": 8,
   "id": "e7ba71ba",
   "metadata": {},
   "outputs": [],
   "source": [
    "xx, x_test, yy, y_test = train_test_split(x, y, train_size = .8, random_state = 13)"
   ]
  },
  {
   "cell_type": "code",
   "execution_count": 9,
   "id": "e2db4a58",
   "metadata": {},
   "outputs": [],
   "source": [
    "x_train, x_vald, y_train, y_vald = train_test_split(xx, yy, train_size = .8, random_state = 13)"
   ]
  },
  {
   "cell_type": "code",
   "execution_count": 10,
   "id": "ea718e00",
   "metadata": {},
   "outputs": [],
   "source": [
    "x_train_n = x_train.to_numpy()\n",
    "x_test_n = x_test.to_numpy()\n",
    "x_vald_n = x_train.to_numpy()\n",
    "y_train_n = y_train.to_numpy()\n",
    "y_test_n = y_test.to_numpy()\n",
    "y_vald_n = x_test.to_numpy()"
   ]
  },
  {
   "cell_type": "markdown",
   "id": "22e7a5d6",
   "metadata": {},
   "source": [
    "* **ensamble means viewing several object as one.**\n",
    "* **here ensamble methods combine the prediction of several estimators**"
   ]
  },
  {
   "cell_type": "code",
   "execution_count": 11,
   "id": "e872eb5b",
   "metadata": {},
   "outputs": [],
   "source": [
    "from sklearn.ensemble import RandomForestRegressor"
   ]
  },
  {
   "cell_type": "markdown",
   "id": "d979bf46",
   "metadata": {},
   "source": [
    "## training the system to learn the value of 'y', based on 'x'"
   ]
  },
  {
   "cell_type": "code",
   "execution_count": 12,
   "id": "fcf1da24",
   "metadata": {},
   "outputs": [
    {
     "data": {
      "text/plain": [
       "RandomForestRegressor(max_depth=20, max_features=5, n_estimators=30, n_jobs=-1)"
      ]
     },
     "execution_count": 12,
     "metadata": {},
     "output_type": "execute_result"
    }
   ],
   "source": [
    "model = RandomForestRegressor(n_estimators=30, n_jobs=-1, max_features=5, max_depth=20)\n",
    "model.fit(x_train, y_train)"
   ]
  },
  {
   "cell_type": "markdown",
   "id": "0b9ed5c1",
   "metadata": {},
   "source": [
    "## predicting target value 'y', based on 'x'"
   ]
  },
  {
   "cell_type": "code",
   "execution_count": 13,
   "id": "29e697b9",
   "metadata": {},
   "outputs": [],
   "source": [
    "y_predicted = model.predict(x_test)"
   ]
  },
  {
   "cell_type": "code",
   "execution_count": 14,
   "id": "586b9d52",
   "metadata": {},
   "outputs": [],
   "source": [
    "y_predicted_c = np.round(y_predicted)"
   ]
  },
  {
   "cell_type": "code",
   "execution_count": 15,
   "id": "41acc414",
   "metadata": {},
   "outputs": [],
   "source": [
    "r2 = model.score(x_test, y_test)"
   ]
  },
  {
   "cell_type": "code",
   "execution_count": 16,
   "id": "116688d3",
   "metadata": {},
   "outputs": [
    {
     "data": {
      "text/plain": [
       "51      2\n",
       "177     8\n",
       "106     4\n",
       "197     8\n",
       "377    28\n",
       "       ..\n",
       "369    24\n",
       "54      2\n",
       "92      4\n",
       "353    20\n",
       "109     5\n",
       "Name: rank, Length: 77, dtype: int64"
      ]
     },
     "execution_count": 16,
     "metadata": {},
     "output_type": "execute_result"
    }
   ],
   "source": [
    "y_test"
   ]
  },
  {
   "cell_type": "code",
   "execution_count": 17,
   "id": "a0f51e46",
   "metadata": {},
   "outputs": [
    {
     "data": {
      "text/plain": [
       "array([ 3.56666667,  6.23333333,  5.8       ,  8.26666667, 22.76666667,\n",
       "        9.1       ,  1.16666667,  1.26666667,  8.03333333,  7.53333333,\n",
       "        1.46666667,  1.66666667,  1.3       , 10.96666667, 10.26666667,\n",
       "       10.33333333,  1.33333333,  8.5       ,  5.13333333,  3.1       ,\n",
       "        6.4       , 10.13333333, 16.53333333,  5.06666667, 11.1       ,\n",
       "        8.43333333,  1.53333333,  5.5       , 15.36666667,  3.9       ,\n",
       "       12.86666667, 10.7       ,  6.76666667,  1.73333333, 23.43333333,\n",
       "        9.8       ,  3.93333333, 12.73333333,  4.06666667,  1.9       ,\n",
       "        1.46666667,  7.36666667,  4.76666667, 10.63333333, 15.56666667,\n",
       "       18.8       ,  2.56666667,  3.4       ,  5.23333333, 26.93333333,\n",
       "        4.03333333,  5.2       ,  4.8       , 23.43333333,  2.86666667,\n",
       "        8.8       ,  4.86666667, 15.4       ,  8.4       ,  7.73333333,\n",
       "       26.        ,  7.03333333,  6.76666667,  3.93333333,  7.        ,\n",
       "        3.96666667, 12.66666667,  8.83333333,  2.26666667,  7.9       ,\n",
       "       10.5       , 12.23333333, 21.5       ,  2.66666667,  4.2       ,\n",
       "       22.76666667,  5.33333333])"
      ]
     },
     "execution_count": 17,
     "metadata": {},
     "output_type": "execute_result"
    }
   ],
   "source": [
    "y_predicted"
   ]
  },
  {
   "cell_type": "markdown",
   "id": "4bd70373",
   "metadata": {},
   "source": [
    "# to find ideal number of estimator, jobs, features and depth\n",
    "* experimental"
   ]
  },
  {
   "cell_type": "code",
   "execution_count": 18,
   "id": "3f768693",
   "metadata": {},
   "outputs": [
    {
     "data": {
      "image/png": "[encoded data removed]",
      "text/plain": [
       "<Figure size 432x288 with 1 Axes>"
      ]
     },
     "metadata": {
      "needs_background": "light"
     },
     "output_type": "display_data"
    }
   ],
   "source": [
    "n_estimators = [1,2,4,8,16,32,64,100,200]\n",
    "train_results = []\n",
    "test_results = []\n",
    "\n",
    "for estimator in n_estimators:\n",
    "   rf = RandomForestRegressor(n_estimators=estimator, n_jobs=-1, max_features=5, max_depth=26)\n",
    "   rf.fit(x_train, y_train)\n",
    "   y_pred = rf.predict(x_test)\n",
    "   roc_auc = rf.score(x_test, y_test)\n",
    "   test_results.append(roc_auc)\n",
    "\n",
    "\n",
    "from matplotlib.legend_handler import HandlerLine2D\n",
    "line2 = plt.plot(n_estimators, test_results, \"r\", label=\"Test AUC\")\n",
    "plt.ylabel(\"AUC score\")\n",
    "plt.xlabel(\"n_estimators\")\n",
    "plt.show()"
   ]
  },
  {
   "cell_type": "code",
   "execution_count": 19,
   "id": "fb4c40f7",
   "metadata": {},
   "outputs": [
    {
     "data": {
      "text/plain": [
       "Text(0, 0.5, 'Predicted')"
      ]
     },
     "execution_count": 19,
     "metadata": {},
     "output_type": "execute_result"
    },
    {
     "data": {
      "image/png": "[encoded data removed]",
      "text/plain": [
       "<Figure size 432x288 with 1 Axes>"
      ]
     },
     "metadata": {
      "needs_background": "light"
     },
     "output_type": "display_data"
    }
   ],
   "source": [
    "plt.scatter(y_test, y_predicted, color = 'blue')\n",
    "plt.xlabel('Measured', fontsize=12)\n",
    "plt.ylabel('Predicted', fontsize=12)"
   ]
  },
  {
   "cell_type": "code",
   "execution_count": 20,
   "id": "fd9f9eed",
   "metadata": {},
   "outputs": [
    {
     "data": {
      "text/plain": [
       "<matplotlib.legend.Legend at 0x2abc827bd48>"
      ]
     },
     "execution_count": 20,
     "metadata": {},
     "output_type": "execute_result"
    },
    {
     "data": {
      "image/png": "[encoded data removed]",
      "text/plain": [
       "<Figure size 1080x576 with 1 Axes>"
      ]
     },
     "metadata": {
      "needs_background": "light"
     },
     "output_type": "display_data"
    }
   ],
   "source": [
    "plt.figure(figsize = (15,8))\n",
    "plt.title('Comparison between true value and predicted value', fontsize=25)\n",
    "plt.plot(y_test_n, label = \"actual\", linewidth = 2)\n",
    "plt.plot(y_predicted_c, label = \"predited\", linewidth = 2)\n",
    "plt.ylabel('Rank', fontsize=12)\n",
    "plt.legend(loc = \"best\", fontsize=12)"
   ]
  },
  {
   "cell_type": "markdown",
   "id": "359ee6a6",
   "metadata": {},
   "source": [
    "# Area under the (ROC) curve"
   ]
  },
  {
   "cell_type": "code",
   "execution_count": 21,
   "id": "625ac574",
   "metadata": {},
   "outputs": [],
   "source": [
    "from sklearn import metrics\n",
    "fpr, tpr, thresholds = metrics.roc_curve(y_test, y_predicted, pos_label=13)\n",
    "roc_auc = metrics.auc(fpr, tpr)"
   ]
  },
  {
   "cell_type": "code",
   "execution_count": 22,
   "id": "cf9cb464",
   "metadata": {},
   "outputs": [
    {
     "data": {
      "text/plain": [
       "0.8421052631578948"
      ]
     },
     "execution_count": 22,
     "metadata": {},
     "output_type": "execute_result"
    }
   ],
   "source": [
    "roc_auc"
   ]
  },
  {
   "cell_type": "code",
   "execution_count": 23,
   "id": "8055a399",
   "metadata": {},
   "outputs": [
    {
     "data": {
      "text/plain": [
       "Text(0, 0.5, 'True Positive Rate')"
      ]
     },
     "execution_count": 23,
     "metadata": {},
     "output_type": "execute_result"
    },
    {
     "data": {
      "image/png": "[encoded data removed]",
      "text/plain": [
       "<Figure size 2160x1080 with 1 Axes>"
      ]
     },
     "metadata": {
      "needs_background": "light"
     },
     "output_type": "display_data"
    }
   ],
   "source": [
    "plt.figure(figsize = (30,15))\n",
    "plt.title('Area under the (ROC) curve', fontsize=25)\n",
    "plt.plot(fpr, tpr, linewidth = 3, marker = '.', markersize=24, color = 'red')\n",
    "plt.xlabel('False Positive Rate', fontsize=25)\n",
    "plt.ylabel('True Positive Rate', fontsize=25)"
   ]
  },
  {
   "cell_type": "markdown",
   "id": "0b6dd2e5",
   "metadata": {},
   "source": [
    "# Neural Network"
   ]
  },
  {
   "cell_type": "code",
   "execution_count": 24,
   "id": "18ab4dcd",
   "metadata": {},
   "outputs": [],
   "source": [
    "from keras.models import Sequential, load_model\n",
    "from keras.layers import Conv2D, MaxPool2D, Dense, Flatten, Dropout"
   ]
  },
  {
   "cell_type": "code",
   "execution_count": 25,
   "id": "8c1ee8dc",
   "metadata": {},
   "outputs": [],
   "source": [
    "modl = Sequential()\n",
    "modl.add(Dense(32, input_dim = 13, activation = 'relu'))\n",
    "modl.add(Dense(16))\n",
    "modl.add(Dense(8))\n",
    "modl.add(Dense(4))\n",
    "modl.add(Dense(2))\n",
    "modl.add(Dense(1))"
   ]
  },
  {
   "cell_type": "code",
   "execution_count": 26,
   "id": "5dc1db39",
   "metadata": {},
   "outputs": [
    {
     "name": "stdout",
     "output_type": "stream",
     "text": [
      "Model: \"sequential\"\n",
      "_________________________________________________________________\n",
      "Layer (type)                 Output Shape              Param #   \n",
      "=================================================================\n",
      "dense (Dense)                (None, 32)                448       \n",
      "_________________________________________________________________\n",
      "dense_1 (Dense)              (None, 16)                528       \n",
      "_________________________________________________________________\n",
      "dense_2 (Dense)              (None, 8)                 136       \n",
      "_________________________________________________________________\n",
      "dense_3 (Dense)              (None, 4)                 36        \n",
      "_________________________________________________________________\n",
      "dense_4 (Dense)              (None, 2)                 10        \n",
      "_________________________________________________________________\n",
      "dense_5 (Dense)              (None, 1)                 3         \n",
      "=================================================================\n",
      "Total params: 1,161\n",
      "Trainable params: 1,161\n",
      "Non-trainable params: 0\n",
      "_________________________________________________________________\n"
     ]
    }
   ],
   "source": [
    "modl.compile(optimizer='adam',\n",
    "              loss='mse',\n",
    "              metrics=[['accuracy', 'mse', 'mae']])\n",
    "\n",
    "modl.summary()"
   ]
  },
  {
   "cell_type": "markdown",
   "id": "0a99890c",
   "metadata": {},
   "source": [
    "# Fiting for Training data"
   ]
  },
  {
   "cell_type": "code",
   "execution_count": 27,
   "id": "811c1cdb",
   "metadata": {},
   "outputs": [
    {
     "name": "stdout",
     "output_type": "stream",
     "text": [
      "Epoch 1/100\n",
      "8/8 - 0s - loss: 51383.9180 - accuracy: 0.0488 - mse: 51383.9180 - mae: 160.6920 - val_loss: 16026.7041 - val_accuracy: 0.0000e+00 - val_mse: 16026.7041 - val_mae: 102.7363\n",
      "Epoch 2/100\n",
      "8/8 - 0s - loss: 25747.2129 - accuracy: 0.0000e+00 - mse: 25747.2129 - mae: 136.1882 - val_loss: 6788.3296 - val_accuracy: 0.0000e+00 - val_mse: 6788.3296 - val_mae: 67.0571\n",
      "Epoch 3/100\n",
      "8/8 - 0s - loss: 3343.4451 - accuracy: 0.0366 - mse: 3343.4451 - mae: 43.6936 - val_loss: 8771.1289 - val_accuracy: 0.1129 - val_mse: 8771.1289 - val_mae: 73.6179\n",
      "Epoch 4/100\n",
      "8/8 - 0s - loss: 5444.5225 - accuracy: 0.0610 - mse: 5444.5225 - mae: 59.5728 - val_loss: 380.3719 - val_accuracy: 0.0968 - val_mse: 380.3719 - val_mae: 14.7201\n",
      "Epoch 5/100\n",
      "8/8 - 0s - loss: 1112.3350 - accuracy: 0.0163 - mse: 1112.3350 - mae: 24.3871 - val_loss: 1547.3229 - val_accuracy: 0.0161 - val_mse: 1547.3229 - val_mae: 31.9850\n",
      "Epoch 6/100\n",
      "8/8 - 0s - loss: 889.1219 - accuracy: 0.0285 - mse: 889.1219 - mae: 21.1034 - val_loss: 442.3246 - val_accuracy: 0.0968 - val_mse: 442.3246 - val_mae: 15.8553\n",
      "Epoch 7/100\n",
      "8/8 - 0s - loss: 538.1830 - accuracy: 0.0569 - mse: 538.1830 - mae: 18.0307 - val_loss: 343.2696 - val_accuracy: 0.0968 - val_mse: 343.2696 - val_mae: 13.9895\n",
      "Epoch 8/100\n",
      "8/8 - 0s - loss: 223.4741 - accuracy: 0.0366 - mse: 223.4741 - mae: 10.7946 - val_loss: 144.1755 - val_accuracy: 0.0645 - val_mse: 144.1755 - val_mae: 8.9271\n",
      "Epoch 9/100\n",
      "8/8 - 0s - loss: 201.8176 - accuracy: 0.0366 - mse: 201.8176 - mae: 9.4669 - val_loss: 160.8785 - val_accuracy: 0.0968 - val_mse: 160.8785 - val_mae: 9.5833\n",
      "Epoch 10/100\n",
      "8/8 - 0s - loss: 173.1754 - accuracy: 0.0488 - mse: 173.1754 - mae: 9.8210 - val_loss: 135.9187 - val_accuracy: 0.0968 - val_mse: 135.9187 - val_mae: 8.7756\n",
      "Epoch 11/100\n",
      "8/8 - 0s - loss: 135.4821 - accuracy: 0.0407 - mse: 135.4821 - mae: 8.4261 - val_loss: 86.8752 - val_accuracy: 0.0806 - val_mse: 86.8752 - val_mae: 6.7171\n",
      "Epoch 12/100\n",
      "8/8 - 0s - loss: 136.8286 - accuracy: 0.0407 - mse: 136.8286 - mae: 8.2946 - val_loss: 118.1048 - val_accuracy: 0.0968 - val_mse: 118.1048 - val_mae: 8.1015\n",
      "Epoch 13/100\n",
      "8/8 - 0s - loss: 137.2467 - accuracy: 0.0447 - mse: 137.2467 - mae: 8.6405 - val_loss: 119.0706 - val_accuracy: 0.0968 - val_mse: 119.0706 - val_mae: 8.1465\n",
      "Epoch 14/100\n",
      "8/8 - 0s - loss: 134.0527 - accuracy: 0.0447 - mse: 134.0527 - mae: 8.3124 - val_loss: 92.0273 - val_accuracy: 0.0806 - val_mse: 92.0273 - val_mae: 6.9728\n",
      "Epoch 15/100\n",
      "8/8 - 0s - loss: 131.0157 - accuracy: 0.0407 - mse: 131.0157 - mae: 8.1976 - val_loss: 117.7539 - val_accuracy: 0.0968 - val_mse: 117.7539 - val_mae: 8.1019\n",
      "Epoch 16/100\n",
      "8/8 - 0s - loss: 134.8051 - accuracy: 0.0488 - mse: 134.8051 - mae: 8.5263 - val_loss: 102.0949 - val_accuracy: 0.0806 - val_mse: 102.0949 - val_mae: 7.4704\n",
      "Epoch 17/100\n",
      "8/8 - 0s - loss: 131.4494 - accuracy: 0.0488 - mse: 131.4494 - mae: 8.3114 - val_loss: 106.1607 - val_accuracy: 0.0806 - val_mse: 106.1607 - val_mae: 7.6405\n",
      "Epoch 18/100\n",
      "8/8 - 0s - loss: 132.5295 - accuracy: 0.0407 - mse: 132.5295 - mae: 8.2674 - val_loss: 103.1897 - val_accuracy: 0.0806 - val_mse: 103.1897 - val_mae: 7.5180\n",
      "Epoch 19/100\n",
      "8/8 - 0s - loss: 127.5654 - accuracy: 0.0447 - mse: 127.5654 - mae: 8.1563 - val_loss: 108.3474 - val_accuracy: 0.0968 - val_mse: 108.3474 - val_mae: 7.7359\n",
      "Epoch 20/100\n",
      "8/8 - 0s - loss: 128.3673 - accuracy: 0.0447 - mse: 128.3673 - mae: 8.2554 - val_loss: 101.8435 - val_accuracy: 0.0806 - val_mse: 101.8435 - val_mae: 7.4699\n",
      "Epoch 21/100\n",
      "8/8 - 0s - loss: 126.0562 - accuracy: 0.0447 - mse: 126.0562 - mae: 8.0933 - val_loss: 100.8712 - val_accuracy: 0.0806 - val_mse: 100.8712 - val_mae: 7.4336\n",
      "Epoch 22/100\n",
      "8/8 - 0s - loss: 126.2325 - accuracy: 0.0447 - mse: 126.2325 - mae: 8.1257 - val_loss: 107.1515 - val_accuracy: 0.0968 - val_mse: 107.1515 - val_mae: 7.6974\n",
      "Epoch 23/100\n",
      "8/8 - 0s - loss: 125.2138 - accuracy: 0.0447 - mse: 125.2138 - mae: 8.0441 - val_loss: 100.6013 - val_accuracy: 0.0806 - val_mse: 100.6013 - val_mae: 7.4323\n",
      "Epoch 24/100\n",
      "8/8 - 0s - loss: 123.5888 - accuracy: 0.0447 - mse: 123.5888 - mae: 8.0928 - val_loss: 102.5732 - val_accuracy: 0.0968 - val_mse: 102.5732 - val_mae: 7.5209\n",
      "Epoch 25/100\n",
      "8/8 - 0s - loss: 123.1478 - accuracy: 0.0407 - mse: 123.1478 - mae: 7.9638 - val_loss: 90.6484 - val_accuracy: 0.0806 - val_mse: 90.6484 - val_mae: 7.0110\n",
      "Epoch 26/100\n",
      "8/8 - 0s - loss: 121.3864 - accuracy: 0.0447 - mse: 121.3864 - mae: 7.9447 - val_loss: 102.1049 - val_accuracy: 0.0968 - val_mse: 102.1049 - val_mae: 7.5096\n",
      "Epoch 27/100\n",
      "8/8 - 0s - loss: 122.2300 - accuracy: 0.0407 - mse: 122.2300 - mae: 8.0535 - val_loss: 86.6432 - val_accuracy: 0.0806 - val_mse: 86.6432 - val_mae: 6.8236\n",
      "Epoch 28/100\n",
      "8/8 - 0s - loss: 120.3452 - accuracy: 0.0447 - mse: 120.3452 - mae: 7.8999 - val_loss: 106.2002 - val_accuracy: 0.0968 - val_mse: 106.2002 - val_mae: 7.6872\n",
      "Epoch 29/100\n",
      "8/8 - 0s - loss: 119.0465 - accuracy: 0.0447 - mse: 119.0465 - mae: 7.8753 - val_loss: 87.7924 - val_accuracy: 0.0806 - val_mse: 87.7924 - val_mae: 6.9032\n",
      "Epoch 30/100\n",
      "8/8 - 0s - loss: 118.9698 - accuracy: 0.0407 - mse: 118.9698 - mae: 7.8265 - val_loss: 102.0195 - val_accuracy: 0.0968 - val_mse: 102.0195 - val_mae: 7.5206\n",
      "Epoch 31/100\n",
      "8/8 - 0s - loss: 116.4518 - accuracy: 0.0447 - mse: 116.4518 - mae: 7.8680 - val_loss: 87.5609 - val_accuracy: 0.0806 - val_mse: 87.5609 - val_mae: 6.9065\n",
      "Epoch 32/100\n",
      "8/8 - 0s - loss: 116.5781 - accuracy: 0.0407 - mse: 116.5781 - mae: 7.7228 - val_loss: 96.6170 - val_accuracy: 0.0968 - val_mse: 96.6170 - val_mae: 7.3051\n",
      "Epoch 33/100\n",
      "8/8 - 0s - loss: 116.1965 - accuracy: 0.0488 - mse: 116.1965 - mae: 7.8979 - val_loss: 97.1003 - val_accuracy: 0.0968 - val_mse: 97.1003 - val_mae: 7.3289\n",
      "Epoch 34/100\n",
      "8/8 - 0s - loss: 113.9461 - accuracy: 0.0447 - mse: 113.9461 - mae: 7.7149 - val_loss: 85.3478 - val_accuracy: 0.0806 - val_mse: 85.3478 - val_mae: 6.8216\n",
      "Epoch 35/100\n",
      "8/8 - 0s - loss: 114.7794 - accuracy: 0.0407 - mse: 114.7794 - mae: 7.7437 - val_loss: 96.6716 - val_accuracy: 0.0968 - val_mse: 96.6716 - val_mae: 7.3175\n",
      "Epoch 36/100\n",
      "8/8 - 0s - loss: 117.0685 - accuracy: 0.0447 - mse: 117.0685 - mae: 7.7698 - val_loss: 94.2608 - val_accuracy: 0.0968 - val_mse: 94.2608 - val_mae: 7.2215\n",
      "Epoch 37/100\n",
      "8/8 - 0s - loss: 110.7060 - accuracy: 0.0447 - mse: 110.7060 - mae: 7.6705 - val_loss: 93.1314 - val_accuracy: 0.0968 - val_mse: 93.1314 - val_mae: 7.1775\n",
      "Epoch 38/100\n",
      "8/8 - 0s - loss: 109.9507 - accuracy: 0.0447 - mse: 109.9507 - mae: 7.6402 - val_loss: 85.5176 - val_accuracy: 0.0806 - val_mse: 85.5176 - val_mae: 6.8496\n",
      "Epoch 39/100\n",
      "8/8 - 0s - loss: 108.2174 - accuracy: 0.0407 - mse: 108.2174 - mae: 7.3917 - val_loss: 76.8603 - val_accuracy: 0.0806 - val_mse: 76.8603 - val_mae: 6.4198\n",
      "Epoch 40/100\n",
      "8/8 - 0s - loss: 106.8884 - accuracy: 0.0407 - mse: 106.8884 - mae: 7.4802 - val_loss: 95.0555 - val_accuracy: 0.0968 - val_mse: 95.0555 - val_mae: 7.2706\n",
      "Epoch 41/100\n",
      "8/8 - 0s - loss: 106.7577 - accuracy: 0.0447 - mse: 106.7577 - mae: 7.4900 - val_loss: 80.5264 - val_accuracy: 0.0806 - val_mse: 80.5264 - val_mae: 6.6360\n",
      "Epoch 42/100\n",
      "8/8 - 0s - loss: 105.5819 - accuracy: 0.0447 - mse: 105.5819 - mae: 7.3856 - val_loss: 86.9957 - val_accuracy: 0.0806 - val_mse: 86.9957 - val_mae: 6.9312\n",
      "Epoch 43/100\n",
      "8/8 - 0s - loss: 105.5331 - accuracy: 0.0447 - mse: 105.5331 - mae: 7.3560 - val_loss: 78.0820 - val_accuracy: 0.0806 - val_mse: 78.0820 - val_mae: 6.5296\n",
      "Epoch 44/100\n",
      "8/8 - 0s - loss: 104.7447 - accuracy: 0.0447 - mse: 104.7447 - mae: 7.4258 - val_loss: 86.3490 - val_accuracy: 0.0968 - val_mse: 86.3490 - val_mae: 6.9115\n",
      "Epoch 45/100\n",
      "8/8 - 0s - loss: 102.2898 - accuracy: 0.0447 - mse: 102.2898 - mae: 7.3784 - val_loss: 74.1480 - val_accuracy: 0.0806 - val_mse: 74.1480 - val_mae: 6.3404\n",
      "Epoch 46/100\n",
      "8/8 - 0s - loss: 102.8086 - accuracy: 0.0407 - mse: 102.8086 - mae: 7.2402 - val_loss: 77.9023 - val_accuracy: 0.0806 - val_mse: 77.9023 - val_mae: 6.5390\n",
      "Epoch 47/100\n",
      "8/8 - 0s - loss: 103.8451 - accuracy: 0.0407 - mse: 103.8451 - mae: 7.2618 - val_loss: 93.8674 - val_accuracy: 0.0968 - val_mse: 93.8674 - val_mae: 7.2626\n",
      "Epoch 48/100\n",
      "8/8 - 0s - loss: 98.4104 - accuracy: 0.0407 - mse: 98.4104 - mae: 7.2566 - val_loss: 71.9733 - val_accuracy: 0.0806 - val_mse: 71.9733 - val_mae: 6.2514\n",
      "Epoch 49/100\n",
      "8/8 - 0s - loss: 98.3922 - accuracy: 0.0407 - mse: 98.3922 - mae: 7.1509 - val_loss: 75.0956 - val_accuracy: 0.0806 - val_mse: 75.0956 - val_mae: 6.4202\n"
     ]
    },
    {
     "name": "stdout",
     "output_type": "stream",
     "text": [
      "Epoch 50/100\n",
      "8/8 - 0s - loss: 96.6826 - accuracy: 0.0407 - mse: 96.6826 - mae: 7.0964 - val_loss: 75.2842 - val_accuracy: 0.0806 - val_mse: 75.2842 - val_mae: 6.4334\n",
      "Epoch 51/100\n",
      "8/8 - 0s - loss: 96.8240 - accuracy: 0.0407 - mse: 96.8240 - mae: 6.9910 - val_loss: 83.1271 - val_accuracy: 0.0968 - val_mse: 83.1271 - val_mae: 6.7927\n",
      "Epoch 52/100\n",
      "8/8 - 0s - loss: 97.1677 - accuracy: 0.0488 - mse: 97.1677 - mae: 7.2195 - val_loss: 70.3609 - val_accuracy: 0.0806 - val_mse: 70.3609 - val_mae: 6.2007\n",
      "Epoch 53/100\n",
      "8/8 - 0s - loss: 94.3456 - accuracy: 0.0447 - mse: 94.3456 - mae: 7.0366 - val_loss: 68.4495 - val_accuracy: 0.0806 - val_mse: 68.4495 - val_mae: 6.1053\n",
      "Epoch 54/100\n",
      "8/8 - 0s - loss: 95.1661 - accuracy: 0.0407 - mse: 95.1661 - mae: 7.0413 - val_loss: 64.8382 - val_accuracy: 0.0806 - val_mse: 64.8382 - val_mae: 5.8961\n",
      "Epoch 55/100\n",
      "8/8 - 0s - loss: 93.0502 - accuracy: 0.0447 - mse: 93.0502 - mae: 6.9102 - val_loss: 81.1694 - val_accuracy: 0.0968 - val_mse: 81.1694 - val_mae: 6.7199\n",
      "Epoch 56/100\n",
      "8/8 - 0s - loss: 89.5206 - accuracy: 0.0407 - mse: 89.5206 - mae: 6.8885 - val_loss: 66.2865 - val_accuracy: 0.0806 - val_mse: 66.2865 - val_mae: 6.0125\n",
      "Epoch 57/100\n",
      "8/8 - 0s - loss: 89.9331 - accuracy: 0.0407 - mse: 89.9331 - mae: 6.8318 - val_loss: 70.1780 - val_accuracy: 0.0806 - val_mse: 70.1780 - val_mae: 6.2183\n",
      "Epoch 58/100\n",
      "8/8 - 0s - loss: 90.4709 - accuracy: 0.0407 - mse: 90.4709 - mae: 6.9582 - val_loss: 61.7913 - val_accuracy: 0.0806 - val_mse: 61.7913 - val_mae: 5.7575\n",
      "Epoch 59/100\n",
      "8/8 - 0s - loss: 89.9833 - accuracy: 0.0407 - mse: 89.9833 - mae: 6.7093 - val_loss: 72.8439 - val_accuracy: 0.0806 - val_mse: 72.8439 - val_mae: 6.3520\n",
      "Epoch 60/100\n",
      "8/8 - 0s - loss: 86.7039 - accuracy: 0.0447 - mse: 86.7039 - mae: 6.8541 - val_loss: 63.7116 - val_accuracy: 0.0806 - val_mse: 63.7116 - val_mae: 5.9025\n",
      "Epoch 61/100\n",
      "8/8 - 0s - loss: 87.0407 - accuracy: 0.0447 - mse: 87.0407 - mae: 6.7749 - val_loss: 64.2430 - val_accuracy: 0.0806 - val_mse: 64.2430 - val_mae: 5.9392\n",
      "Epoch 62/100\n",
      "8/8 - 0s - loss: 89.5452 - accuracy: 0.0407 - mse: 89.5452 - mae: 6.6603 - val_loss: 88.9475 - val_accuracy: 0.0968 - val_mse: 88.9475 - val_mae: 7.0983\n",
      "Epoch 63/100\n",
      "8/8 - 0s - loss: 90.4021 - accuracy: 0.0488 - mse: 90.4021 - mae: 6.9844 - val_loss: 52.6292 - val_accuracy: 0.0806 - val_mse: 52.6292 - val_mae: 5.2751\n",
      "Epoch 64/100\n",
      "8/8 - 0s - loss: 87.0634 - accuracy: 0.0407 - mse: 87.0634 - mae: 6.6571 - val_loss: 98.7198 - val_accuracy: 0.0968 - val_mse: 98.7198 - val_mae: 7.4984\n",
      "Epoch 65/100\n",
      "8/8 - 0s - loss: 82.3080 - accuracy: 0.0447 - mse: 82.3080 - mae: 6.6312 - val_loss: 52.4321 - val_accuracy: 0.0806 - val_mse: 52.4321 - val_mae: 5.2303\n",
      "Epoch 66/100\n",
      "8/8 - 0s - loss: 84.3442 - accuracy: 0.0447 - mse: 84.3442 - mae: 6.7255 - val_loss: 63.6164 - val_accuracy: 0.0806 - val_mse: 63.6164 - val_mae: 5.9269\n",
      "Epoch 67/100\n",
      "8/8 - 0s - loss: 80.4138 - accuracy: 0.0407 - mse: 80.4138 - mae: 6.3462 - val_loss: 66.0776 - val_accuracy: 0.0806 - val_mse: 66.0776 - val_mae: 6.0524\n",
      "Epoch 68/100\n",
      "8/8 - 0s - loss: 79.4576 - accuracy: 0.0447 - mse: 79.4576 - mae: 6.6169 - val_loss: 53.5301 - val_accuracy: 0.0806 - val_mse: 53.5301 - val_mae: 5.3380\n",
      "Epoch 69/100\n",
      "8/8 - 0s - loss: 76.5527 - accuracy: 0.0407 - mse: 76.5527 - mae: 6.2728 - val_loss: 69.1780 - val_accuracy: 0.0968 - val_mse: 69.1780 - val_mae: 6.2059\n",
      "Epoch 70/100\n",
      "8/8 - 0s - loss: 75.9989 - accuracy: 0.0407 - mse: 75.9989 - mae: 6.4225 - val_loss: 48.1928 - val_accuracy: 0.0806 - val_mse: 48.1928 - val_mae: 5.0195\n",
      "Epoch 71/100\n",
      "8/8 - 0s - loss: 84.4836 - accuracy: 0.0447 - mse: 84.4836 - mae: 6.4120 - val_loss: 103.7861 - val_accuracy: 0.0968 - val_mse: 103.7861 - val_mae: 7.6842\n",
      "Epoch 72/100\n",
      "8/8 - 0s - loss: 77.9849 - accuracy: 0.0447 - mse: 77.9849 - mae: 6.4781 - val_loss: 48.6085 - val_accuracy: 0.0806 - val_mse: 48.6085 - val_mae: 5.0343\n",
      "Epoch 73/100\n",
      "8/8 - 0s - loss: 88.2871 - accuracy: 0.0488 - mse: 88.2871 - mae: 6.8234 - val_loss: 59.4289 - val_accuracy: 0.0806 - val_mse: 59.4289 - val_mae: 5.7323\n",
      "Epoch 74/100\n",
      "8/8 - 0s - loss: 73.7702 - accuracy: 0.0407 - mse: 73.7702 - mae: 6.1095 - val_loss: 65.7948 - val_accuracy: 0.0968 - val_mse: 65.7948 - val_mae: 6.0581\n",
      "Epoch 75/100\n",
      "8/8 - 0s - loss: 73.5998 - accuracy: 0.0447 - mse: 73.5998 - mae: 6.2428 - val_loss: 46.6142 - val_accuracy: 0.0806 - val_mse: 46.6142 - val_mae: 4.9329\n",
      "Epoch 76/100\n",
      "8/8 - 0s - loss: 72.9187 - accuracy: 0.0447 - mse: 72.9187 - mae: 6.1550 - val_loss: 58.7261 - val_accuracy: 0.0806 - val_mse: 58.7261 - val_mae: 5.7070\n",
      "Epoch 77/100\n",
      "8/8 - 0s - loss: 69.2996 - accuracy: 0.0407 - mse: 69.2996 - mae: 6.0020 - val_loss: 59.4062 - val_accuracy: 0.0968 - val_mse: 59.4062 - val_mae: 5.7452\n",
      "Epoch 78/100\n",
      "8/8 - 0s - loss: 67.9589 - accuracy: 0.0407 - mse: 67.9589 - mae: 6.0473 - val_loss: 48.3729 - val_accuracy: 0.0806 - val_mse: 48.3729 - val_mae: 5.1243\n",
      "Epoch 79/100\n",
      "8/8 - 0s - loss: 69.9422 - accuracy: 0.0447 - mse: 69.9422 - mae: 5.9462 - val_loss: 70.9968 - val_accuracy: 0.0968 - val_mse: 70.9968 - val_mae: 6.3327\n",
      "Epoch 80/100\n",
      "8/8 - 0s - loss: 68.1266 - accuracy: 0.0447 - mse: 68.1266 - mae: 6.0193 - val_loss: 45.9588 - val_accuracy: 0.0806 - val_mse: 45.9588 - val_mae: 4.9687\n",
      "Epoch 81/100\n",
      "8/8 - 0s - loss: 71.2344 - accuracy: 0.0488 - mse: 71.2344 - mae: 6.2181 - val_loss: 42.1583 - val_accuracy: 0.0806 - val_mse: 42.1583 - val_mae: 4.6922\n",
      "Epoch 82/100\n",
      "8/8 - 0s - loss: 70.5393 - accuracy: 0.0407 - mse: 70.5393 - mae: 5.8658 - val_loss: 83.8474 - val_accuracy: 0.0968 - val_mse: 83.8474 - val_mae: 6.9043\n",
      "Epoch 83/100\n",
      "8/8 - 0s - loss: 67.1375 - accuracy: 0.0488 - mse: 67.1375 - mae: 6.0350 - val_loss: 40.0077 - val_accuracy: 0.0806 - val_mse: 40.0077 - val_mae: 4.6082\n",
      "Epoch 84/100\n",
      "8/8 - 0s - loss: 70.5827 - accuracy: 0.0407 - mse: 70.5827 - mae: 6.0396 - val_loss: 61.9003 - val_accuracy: 0.0968 - val_mse: 61.9003 - val_mae: 5.8991\n",
      "Epoch 85/100\n",
      "8/8 - 0s - loss: 66.4867 - accuracy: 0.0407 - mse: 66.4867 - mae: 5.6889 - val_loss: 56.4827 - val_accuracy: 0.0968 - val_mse: 56.4827 - val_mae: 5.6076\n",
      "Epoch 86/100\n",
      "8/8 - 0s - loss: 69.7875 - accuracy: 0.0488 - mse: 69.7875 - mae: 6.1287 - val_loss: 38.8812 - val_accuracy: 0.0806 - val_mse: 38.8812 - val_mae: 4.5030\n",
      "Epoch 87/100\n",
      "8/8 - 0s - loss: 62.1486 - accuracy: 0.0447 - mse: 62.1486 - mae: 5.7590 - val_loss: 53.0219 - val_accuracy: 0.0968 - val_mse: 53.0219 - val_mae: 5.4306\n",
      "Epoch 88/100\n",
      "8/8 - 0s - loss: 65.3881 - accuracy: 0.0488 - mse: 65.3881 - mae: 5.8317 - val_loss: 71.5059 - val_accuracy: 0.0968 - val_mse: 71.5059 - val_mae: 6.3687\n",
      "Epoch 89/100\n",
      "8/8 - 0s - loss: 66.9976 - accuracy: 0.0528 - mse: 66.9976 - mae: 5.9029 - val_loss: 36.8120 - val_accuracy: 0.0806 - val_mse: 36.8120 - val_mae: 4.3939\n",
      "Epoch 90/100\n",
      "8/8 - 0s - loss: 64.9971 - accuracy: 0.0447 - mse: 64.9971 - mae: 5.9235 - val_loss: 37.5813 - val_accuracy: 0.0806 - val_mse: 37.5813 - val_mae: 4.4413\n",
      "Epoch 91/100\n",
      "8/8 - 0s - loss: 66.7050 - accuracy: 0.0447 - mse: 66.7050 - mae: 5.8006 - val_loss: 56.7257 - val_accuracy: 0.0968 - val_mse: 56.7257 - val_mae: 5.6454\n",
      "Epoch 92/100\n",
      "8/8 - 0s - loss: 57.4563 - accuracy: 0.0407 - mse: 57.4563 - mae: 5.4458 - val_loss: 47.9219 - val_accuracy: 0.0968 - val_mse: 47.9219 - val_mae: 5.1612\n",
      "Epoch 93/100\n",
      "8/8 - 0s - loss: 55.9894 - accuracy: 0.0407 - mse: 55.9894 - mae: 5.3953 - val_loss: 43.8832 - val_accuracy: 0.0806 - val_mse: 43.8832 - val_mae: 4.9357\n",
      "Epoch 94/100\n",
      "8/8 - 0s - loss: 53.7631 - accuracy: 0.0407 - mse: 53.7631 - mae: 5.2760 - val_loss: 51.1940 - val_accuracy: 0.0968 - val_mse: 51.1940 - val_mae: 5.3467\n",
      "Epoch 95/100\n",
      "8/8 - 0s - loss: 58.7070 - accuracy: 0.0407 - mse: 58.7070 - mae: 5.5725 - val_loss: 33.9930 - val_accuracy: 0.0806 - val_mse: 33.9930 - val_mae: 4.2148\n",
      "Epoch 96/100\n",
      "8/8 - 0s - loss: 58.5638 - accuracy: 0.0447 - mse: 58.5638 - mae: 5.5541 - val_loss: 33.7363 - val_accuracy: 0.0806 - val_mse: 33.7363 - val_mae: 4.2022\n",
      "Epoch 97/100\n",
      "8/8 - 0s - loss: 54.6153 - accuracy: 0.0447 - mse: 54.6153 - mae: 5.3075 - val_loss: 39.4286 - val_accuracy: 0.0806 - val_mse: 39.4286 - val_mae: 4.6757\n",
      "Epoch 98/100\n",
      "8/8 - 0s - loss: 51.0067 - accuracy: 0.0407 - mse: 51.0067 - mae: 5.0933 - val_loss: 41.1966 - val_accuracy: 0.0806 - val_mse: 41.1966 - val_mae: 4.7837\n",
      "Epoch 99/100\n",
      "8/8 - 0s - loss: 50.4965 - accuracy: 0.0447 - mse: 50.4965 - mae: 5.2403 - val_loss: 31.3190 - val_accuracy: 0.0806 - val_mse: 31.3190 - val_mae: 4.0709\n"
     ]
    },
    {
     "name": "stdout",
     "output_type": "stream",
     "text": [
      "Epoch 100/100\n",
      "8/8 - 0s - loss: 54.6297 - accuracy: 0.0447 - mse: 54.6297 - mae: 5.3476 - val_loss: 34.7049 - val_accuracy: 0.0806 - val_mse: 34.7049 - val_mae: 4.3510\n"
     ]
    }
   ],
   "source": [
    "history = modl.fit(\n",
    "    x_train, \n",
    "    y_train, \n",
    "    batch_size=32, \n",
    "    epochs=100, verbose=2, \n",
    "    callbacks=None,\n",
    "    validation_data=(x_vald, y_vald))"
   ]
  },
  {
   "cell_type": "code",
   "execution_count": 28,
   "id": "ad948ce5",
   "metadata": {},
   "outputs": [
    {
     "name": "stdout",
     "output_type": "stream",
     "text": [
      "8/8 - 0s - loss: 48.3374 - accuracy: 0.0407 - mse: 48.3374 - mae: 4.9772\n"
     ]
    }
   ],
   "source": [
    "train_loss = history.history['loss']\n",
    "train_val_loss = history.history['val_loss']\n",
    "train_accu = history.history['accuracy']\n",
    "train_val_accu = history.history['val_accuracy']\n",
    "train_mse = history.history['mse']\n",
    "train_val_mse = history.history['val_mse']\n",
    "train_mae = history.history['mae']\n",
    "train_val_mae = history.history['val_mae']\n",
    "train_los, train_acc, _, __ = modl.evaluate(x_train, y_train, verbose=2)"
   ]
  },
  {
   "cell_type": "markdown",
   "id": "16683e30",
   "metadata": {},
   "source": [
    "# Fitting for Testing data"
   ]
  },
  {
   "cell_type": "code",
   "execution_count": 29,
   "id": "a6ecba48",
   "metadata": {},
   "outputs": [
    {
     "name": "stdout",
     "output_type": "stream",
     "text": [
      "Model: \"sequential\"\n",
      "_________________________________________________________________\n",
      "Layer (type)                 Output Shape              Param #   \n",
      "=================================================================\n",
      "dense (Dense)                (None, 32)                448       \n",
      "_________________________________________________________________\n",
      "dense_1 (Dense)              (None, 16)                528       \n",
      "_________________________________________________________________\n",
      "dense_2 (Dense)              (None, 8)                 136       \n",
      "_________________________________________________________________\n",
      "dense_3 (Dense)              (None, 4)                 36        \n",
      "_________________________________________________________________\n",
      "dense_4 (Dense)              (None, 2)                 10        \n",
      "_________________________________________________________________\n",
      "dense_5 (Dense)              (None, 1)                 3         \n",
      "=================================================================\n",
      "Total params: 1,161\n",
      "Trainable params: 1,161\n",
      "Non-trainable params: 0\n",
      "_________________________________________________________________\n"
     ]
    }
   ],
   "source": [
    "modl.compile(optimizer='adam',\n",
    "              loss='mse',\n",
    "              metrics=[['accuracy', 'mse', 'mae']])\n",
    "\n",
    "modl.summary()"
   ]
  },
  {
   "cell_type": "code",
   "execution_count": 30,
   "id": "115ebffd",
   "metadata": {},
   "outputs": [
    {
     "name": "stdout",
     "output_type": "stream",
     "text": [
      "Epoch 1/100\n",
      "WARNING:tensorflow:Callbacks method `on_train_batch_end` is slow compared to the batch time (batch time: 0.0000s vs `on_train_batch_end` time: 0.0010s). Check your callbacks.\n",
      "8/8 - 0s - loss: 1703.5079 - accuracy: 0.0285 - mse: 1703.5079 - mae: 29.5564 - val_loss: 561.9677 - val_accuracy: 0.0130 - val_mse: 561.9677 - val_mae: 19.1031\n",
      "Epoch 2/100\n",
      "8/8 - 0s - loss: 867.6212 - accuracy: 0.0325 - mse: 867.6212 - mae: 22.9432 - val_loss: 708.5697 - val_accuracy: 0.0909 - val_mse: 708.5697 - val_mae: 21.0778\n",
      "Epoch 3/100\n",
      "8/8 - 0s - loss: 318.6674 - accuracy: 0.0407 - mse: 318.6674 - mae: 13.4445 - val_loss: 157.1060 - val_accuracy: 0.0390 - val_mse: 157.1060 - val_mae: 9.1428\n",
      "Epoch 4/100\n",
      "8/8 - 0s - loss: 143.9530 - accuracy: 0.0488 - mse: 143.9530 - mae: 9.0903 - val_loss: 50.0855 - val_accuracy: 0.0519 - val_mse: 50.0855 - val_mae: 4.3089\n",
      "Epoch 5/100\n",
      "8/8 - 0s - loss: 105.2692 - accuracy: 0.0366 - mse: 105.2692 - mae: 7.5008 - val_loss: 138.7443 - val_accuracy: 0.0649 - val_mse: 138.7443 - val_mae: 9.1669\n",
      "Epoch 6/100\n",
      "8/8 - 0s - loss: 105.1102 - accuracy: 0.0366 - mse: 105.1102 - mae: 7.6046 - val_loss: 47.7463 - val_accuracy: 0.0519 - val_mse: 47.7463 - val_mae: 4.2183\n",
      "Epoch 7/100\n",
      "8/8 - 0s - loss: 56.4863 - accuracy: 0.0447 - mse: 56.4863 - mae: 5.7008 - val_loss: 47.0781 - val_accuracy: 0.0519 - val_mse: 47.0781 - val_mae: 4.1822\n",
      "Epoch 8/100\n",
      "8/8 - 0s - loss: 45.3622 - accuracy: 0.0488 - mse: 45.3622 - mae: 4.8374 - val_loss: 55.8569 - val_accuracy: 0.0649 - val_mse: 55.8569 - val_mae: 5.7349\n",
      "Epoch 9/100\n",
      "8/8 - 0s - loss: 46.4065 - accuracy: 0.0407 - mse: 46.4065 - mae: 4.9017 - val_loss: 48.6875 - val_accuracy: 0.0519 - val_mse: 48.6875 - val_mae: 5.1623\n",
      "Epoch 10/100\n",
      "8/8 - 0s - loss: 58.4461 - accuracy: 0.0447 - mse: 58.4461 - mae: 5.5954 - val_loss: 49.8200 - val_accuracy: 0.0519 - val_mse: 49.8200 - val_mae: 4.2533\n",
      "Epoch 11/100\n",
      "8/8 - 0s - loss: 53.0116 - accuracy: 0.0488 - mse: 53.0116 - mae: 5.3808 - val_loss: 61.1819 - val_accuracy: 0.0519 - val_mse: 61.1819 - val_mae: 4.8797\n",
      "Epoch 12/100\n",
      "8/8 - 0s - loss: 56.6334 - accuracy: 0.0447 - mse: 56.6334 - mae: 5.4545 - val_loss: 39.5613 - val_accuracy: 0.0519 - val_mse: 39.5613 - val_mae: 4.1640\n",
      "Epoch 13/100\n",
      "8/8 - 0s - loss: 44.6515 - accuracy: 0.0447 - mse: 44.6515 - mae: 4.5192 - val_loss: 43.7011 - val_accuracy: 0.0519 - val_mse: 43.7011 - val_mae: 4.8643\n",
      "Epoch 14/100\n",
      "8/8 - 0s - loss: 39.1947 - accuracy: 0.0488 - mse: 39.1947 - mae: 4.3694 - val_loss: 52.6861 - val_accuracy: 0.0649 - val_mse: 52.6861 - val_mae: 5.6488\n",
      "Epoch 15/100\n",
      "8/8 - 0s - loss: 48.5980 - accuracy: 0.0447 - mse: 48.5980 - mae: 4.9378 - val_loss: 71.2513 - val_accuracy: 0.0649 - val_mse: 71.2513 - val_mae: 6.6692\n",
      "Epoch 16/100\n",
      "8/8 - 0s - loss: 50.0308 - accuracy: 0.0407 - mse: 50.0308 - mae: 5.0105 - val_loss: 40.8393 - val_accuracy: 0.0519 - val_mse: 40.8393 - val_mae: 4.7306\n",
      "Epoch 17/100\n",
      "8/8 - 0s - loss: 35.0314 - accuracy: 0.0488 - mse: 35.0314 - mae: 4.2838 - val_loss: 34.6346 - val_accuracy: 0.0519 - val_mse: 34.6346 - val_mae: 3.8096\n",
      "Epoch 18/100\n",
      "8/8 - 0s - loss: 32.6302 - accuracy: 0.0488 - mse: 32.6302 - mae: 4.1537 - val_loss: 33.6124 - val_accuracy: 0.0519 - val_mse: 33.6124 - val_mae: 3.7907\n",
      "Epoch 19/100\n",
      "8/8 - 0s - loss: 31.7796 - accuracy: 0.0447 - mse: 31.7796 - mae: 4.1016 - val_loss: 32.9667 - val_accuracy: 0.0519 - val_mse: 32.9667 - val_mae: 3.8684\n",
      "Epoch 20/100\n",
      "8/8 - 0s - loss: 30.9977 - accuracy: 0.0488 - mse: 30.9977 - mae: 3.9988 - val_loss: 33.8006 - val_accuracy: 0.0519 - val_mse: 33.8006 - val_mae: 3.5374\n",
      "Epoch 21/100\n",
      "8/8 - 0s - loss: 32.9820 - accuracy: 0.0488 - mse: 32.9820 - mae: 4.1339 - val_loss: 32.9857 - val_accuracy: 0.0519 - val_mse: 32.9857 - val_mae: 3.4869\n",
      "Epoch 22/100\n",
      "8/8 - 0s - loss: 35.8387 - accuracy: 0.0447 - mse: 35.8387 - mae: 4.2087 - val_loss: 30.8048 - val_accuracy: 0.0519 - val_mse: 30.8048 - val_mae: 3.8630\n",
      "Epoch 23/100\n",
      "8/8 - 0s - loss: 34.3573 - accuracy: 0.0528 - mse: 34.3573 - mae: 4.1643 - val_loss: 56.8961 - val_accuracy: 0.0649 - val_mse: 56.8961 - val_mae: 5.9624\n",
      "Epoch 24/100\n",
      "8/8 - 0s - loss: 37.5151 - accuracy: 0.0528 - mse: 37.5151 - mae: 4.4230 - val_loss: 46.2064 - val_accuracy: 0.0649 - val_mse: 46.2064 - val_mae: 5.3605\n",
      "Epoch 25/100\n",
      "8/8 - 0s - loss: 36.0305 - accuracy: 0.0488 - mse: 36.0305 - mae: 4.3580 - val_loss: 27.6854 - val_accuracy: 0.0519 - val_mse: 27.6854 - val_mae: 3.6510\n",
      "Epoch 26/100\n",
      "8/8 - 0s - loss: 27.0952 - accuracy: 0.0488 - mse: 27.0952 - mae: 3.7524 - val_loss: 35.5400 - val_accuracy: 0.0519 - val_mse: 35.5400 - val_mae: 4.6339\n",
      "Epoch 27/100\n",
      "8/8 - 0s - loss: 31.6381 - accuracy: 0.0488 - mse: 31.6381 - mae: 4.0354 - val_loss: 35.5173 - val_accuracy: 0.0519 - val_mse: 35.5173 - val_mae: 4.6535\n",
      "Epoch 28/100\n",
      "8/8 - 0s - loss: 33.1811 - accuracy: 0.0447 - mse: 33.1811 - mae: 4.1717 - val_loss: 28.9744 - val_accuracy: 0.0519 - val_mse: 28.9744 - val_mae: 4.0592\n",
      "Epoch 29/100\n",
      "8/8 - 0s - loss: 31.7837 - accuracy: 0.0569 - mse: 31.7837 - mae: 4.0135 - val_loss: 24.5767 - val_accuracy: 0.0519 - val_mse: 24.5767 - val_mae: 3.5070\n",
      "Epoch 30/100\n",
      "8/8 - 0s - loss: 31.3991 - accuracy: 0.0488 - mse: 31.3991 - mae: 4.0083 - val_loss: 22.6050 - val_accuracy: 0.0519 - val_mse: 22.6050 - val_mae: 3.0786\n",
      "Epoch 31/100\n",
      "8/8 - 0s - loss: 26.2150 - accuracy: 0.0447 - mse: 26.2150 - mae: 3.6015 - val_loss: 22.2592 - val_accuracy: 0.0519 - val_mse: 22.2592 - val_mae: 2.9708\n",
      "Epoch 32/100\n",
      "8/8 - 0s - loss: 20.8096 - accuracy: 0.0447 - mse: 20.8096 - mae: 3.3019 - val_loss: 21.4787 - val_accuracy: 0.0519 - val_mse: 21.4787 - val_mae: 3.2174\n",
      "Epoch 33/100\n",
      "8/8 - 0s - loss: 20.4058 - accuracy: 0.0447 - mse: 20.4058 - mae: 3.2739 - val_loss: 20.1199 - val_accuracy: 0.0519 - val_mse: 20.1199 - val_mae: 2.9182\n",
      "Epoch 34/100\n",
      "8/8 - 0s - loss: 20.3596 - accuracy: 0.0488 - mse: 20.3596 - mae: 3.2620 - val_loss: 19.9981 - val_accuracy: 0.0519 - val_mse: 19.9981 - val_mae: 3.1237\n",
      "Epoch 35/100\n",
      "8/8 - 0s - loss: 20.0711 - accuracy: 0.0488 - mse: 20.0711 - mae: 3.2521 - val_loss: 21.5826 - val_accuracy: 0.0519 - val_mse: 21.5826 - val_mae: 3.4678\n",
      "Epoch 36/100\n",
      "8/8 - 0s - loss: 20.7688 - accuracy: 0.0488 - mse: 20.7688 - mae: 3.3071 - val_loss: 19.1581 - val_accuracy: 0.0519 - val_mse: 19.1581 - val_mae: 3.1379\n",
      "Epoch 37/100\n",
      "8/8 - 0s - loss: 19.4061 - accuracy: 0.0447 - mse: 19.4061 - mae: 3.1267 - val_loss: 28.0886 - val_accuracy: 0.0649 - val_mse: 28.0886 - val_mae: 4.1796\n",
      "Epoch 38/100\n",
      "8/8 - 0s - loss: 21.7546 - accuracy: 0.0447 - mse: 21.7546 - mae: 3.3937 - val_loss: 17.6631 - val_accuracy: 0.0519 - val_mse: 17.6631 - val_mae: 3.0065\n",
      "Epoch 39/100\n",
      "8/8 - 0s - loss: 21.7187 - accuracy: 0.0528 - mse: 21.7187 - mae: 3.2644 - val_loss: 20.3955 - val_accuracy: 0.0519 - val_mse: 20.3955 - val_mae: 2.7574\n",
      "Epoch 40/100\n",
      "8/8 - 0s - loss: 16.1654 - accuracy: 0.0447 - mse: 16.1654 - mae: 2.9586 - val_loss: 16.3064 - val_accuracy: 0.0519 - val_mse: 16.3064 - val_mae: 2.4758\n",
      "Epoch 41/100\n",
      "8/8 - 0s - loss: 18.2530 - accuracy: 0.0447 - mse: 18.2530 - mae: 3.0458 - val_loss: 29.8871 - val_accuracy: 0.0909 - val_mse: 29.8871 - val_mae: 4.3140\n",
      "Epoch 42/100\n",
      "8/8 - 0s - loss: 22.5164 - accuracy: 0.0488 - mse: 22.5164 - mae: 3.3474 - val_loss: 17.2617 - val_accuracy: 0.0649 - val_mse: 17.2617 - val_mae: 3.1617\n",
      "Epoch 43/100\n",
      "8/8 - 0s - loss: 18.6462 - accuracy: 0.0447 - mse: 18.6462 - mae: 3.0219 - val_loss: 13.5304 - val_accuracy: 0.0519 - val_mse: 13.5304 - val_mae: 2.3774\n",
      "Epoch 44/100\n",
      "8/8 - 0s - loss: 13.2146 - accuracy: 0.0488 - mse: 13.2146 - mae: 2.6037 - val_loss: 13.1590 - val_accuracy: 0.0649 - val_mse: 13.1590 - val_mae: 2.5297\n",
      "Epoch 45/100\n",
      "8/8 - 0s - loss: 12.5142 - accuracy: 0.0488 - mse: 12.5142 - mae: 2.6204 - val_loss: 12.7867 - val_accuracy: 0.0519 - val_mse: 12.7867 - val_mae: 2.2479\n",
      "Epoch 46/100\n",
      "8/8 - 0s - loss: 14.2051 - accuracy: 0.0488 - mse: 14.2051 - mae: 2.7177 - val_loss: 27.2161 - val_accuracy: 0.0519 - val_mse: 27.2161 - val_mae: 3.6414\n",
      "Epoch 47/100\n",
      "8/8 - 0s - loss: 15.3729 - accuracy: 0.0488 - mse: 15.3729 - mae: 2.7788 - val_loss: 13.9663 - val_accuracy: 0.0519 - val_mse: 13.9663 - val_mae: 2.2854\n",
      "Epoch 48/100\n",
      "8/8 - 0s - loss: 13.4640 - accuracy: 0.0569 - mse: 13.4640 - mae: 2.5749 - val_loss: 11.7001 - val_accuracy: 0.0519 - val_mse: 11.7001 - val_mae: 2.1266\n",
      "Epoch 49/100\n",
      "8/8 - 0s - loss: 12.5368 - accuracy: 0.0569 - mse: 12.5368 - mae: 2.5307 - val_loss: 10.4870 - val_accuracy: 0.0649 - val_mse: 10.4870 - val_mae: 2.1180\n"
     ]
    },
    {
     "name": "stdout",
     "output_type": "stream",
     "text": [
      "Epoch 50/100\n",
      "8/8 - 0s - loss: 15.4104 - accuracy: 0.0528 - mse: 15.4104 - mae: 2.8264 - val_loss: 22.7416 - val_accuracy: 0.0519 - val_mse: 22.7416 - val_mae: 3.3254\n",
      "Epoch 51/100\n",
      "8/8 - 0s - loss: 19.0833 - accuracy: 0.0447 - mse: 19.0833 - mae: 3.1645 - val_loss: 10.7627 - val_accuracy: 0.0649 - val_mse: 10.7627 - val_mae: 2.0395\n",
      "Epoch 52/100\n",
      "8/8 - 0s - loss: 15.1171 - accuracy: 0.0528 - mse: 15.1171 - mae: 2.8058 - val_loss: 14.6062 - val_accuracy: 0.0909 - val_mse: 14.6062 - val_mae: 2.9993\n",
      "Epoch 53/100\n",
      "8/8 - 0s - loss: 11.1822 - accuracy: 0.0569 - mse: 11.1822 - mae: 2.3914 - val_loss: 9.9182 - val_accuracy: 0.0649 - val_mse: 9.9182 - val_mae: 1.9654\n",
      "Epoch 54/100\n",
      "8/8 - 0s - loss: 8.3374 - accuracy: 0.0569 - mse: 8.3374 - mae: 2.1103 - val_loss: 8.4307 - val_accuracy: 0.0779 - val_mse: 8.4307 - val_mae: 1.9672\n",
      "Epoch 55/100\n",
      "8/8 - 0s - loss: 8.7780 - accuracy: 0.0569 - mse: 8.7780 - mae: 2.1579 - val_loss: 9.3037 - val_accuracy: 0.0909 - val_mse: 9.3037 - val_mae: 2.2715\n",
      "Epoch 56/100\n",
      "8/8 - 0s - loss: 8.0747 - accuracy: 0.0610 - mse: 8.0747 - mae: 2.0524 - val_loss: 7.8076 - val_accuracy: 0.0909 - val_mse: 7.8076 - val_mae: 1.9442\n",
      "Epoch 57/100\n",
      "8/8 - 0s - loss: 7.1974 - accuracy: 0.0610 - mse: 7.1974 - mae: 1.9583 - val_loss: 9.5328 - val_accuracy: 0.0909 - val_mse: 9.5328 - val_mae: 2.3580\n",
      "Epoch 58/100\n",
      "8/8 - 0s - loss: 7.2746 - accuracy: 0.0650 - mse: 7.2746 - mae: 1.9560 - val_loss: 7.0512 - val_accuracy: 0.0909 - val_mse: 7.0512 - val_mae: 1.8033\n",
      "Epoch 59/100\n",
      "8/8 - 0s - loss: 10.5562 - accuracy: 0.0528 - mse: 10.5562 - mae: 2.2740 - val_loss: 7.1045 - val_accuracy: 0.0909 - val_mse: 7.1045 - val_mae: 1.9161\n",
      "Epoch 60/100\n",
      "8/8 - 0s - loss: 7.3537 - accuracy: 0.0650 - mse: 7.3537 - mae: 2.0010 - val_loss: 6.6398 - val_accuracy: 0.0909 - val_mse: 6.6398 - val_mae: 1.6794\n",
      "Epoch 61/100\n",
      "8/8 - 0s - loss: 6.6046 - accuracy: 0.0610 - mse: 6.6046 - mae: 1.8248 - val_loss: 6.2486 - val_accuracy: 0.0909 - val_mse: 6.2486 - val_mae: 1.7518\n",
      "Epoch 62/100\n",
      "8/8 - 0s - loss: 7.6271 - accuracy: 0.0610 - mse: 7.6271 - mae: 1.9834 - val_loss: 5.9629 - val_accuracy: 0.0909 - val_mse: 5.9629 - val_mae: 1.6256\n",
      "Epoch 63/100\n",
      "8/8 - 0s - loss: 7.5322 - accuracy: 0.0610 - mse: 7.5322 - mae: 1.9936 - val_loss: 10.0048 - val_accuracy: 0.0779 - val_mse: 10.0048 - val_mae: 2.1017\n",
      "Epoch 64/100\n",
      "8/8 - 0s - loss: 9.3605 - accuracy: 0.0610 - mse: 9.3605 - mae: 2.1520 - val_loss: 8.0152 - val_accuracy: 0.1039 - val_mse: 8.0152 - val_mae: 2.1851\n",
      "Epoch 65/100\n",
      "8/8 - 0s - loss: 6.5561 - accuracy: 0.0650 - mse: 6.5561 - mae: 1.8617 - val_loss: 5.6179 - val_accuracy: 0.0909 - val_mse: 5.6179 - val_mae: 1.5217\n",
      "Epoch 66/100\n",
      "8/8 - 0s - loss: 5.4063 - accuracy: 0.0610 - mse: 5.4063 - mae: 1.6600 - val_loss: 5.8438 - val_accuracy: 0.1039 - val_mse: 5.8438 - val_mae: 1.8103\n",
      "Epoch 67/100\n",
      "8/8 - 0s - loss: 5.3757 - accuracy: 0.0569 - mse: 5.3757 - mae: 1.6907 - val_loss: 5.9443 - val_accuracy: 0.0909 - val_mse: 5.9443 - val_mae: 1.5486\n",
      "Epoch 68/100\n",
      "8/8 - 0s - loss: 4.7332 - accuracy: 0.0610 - mse: 4.7332 - mae: 1.5698 - val_loss: 4.5323 - val_accuracy: 0.1039 - val_mse: 4.5323 - val_mae: 1.4997\n",
      "Epoch 69/100\n",
      "8/8 - 0s - loss: 4.4189 - accuracy: 0.0650 - mse: 4.4189 - mae: 1.5382 - val_loss: 4.4337 - val_accuracy: 0.1039 - val_mse: 4.4337 - val_mae: 1.4178\n",
      "Epoch 70/100\n",
      "8/8 - 0s - loss: 4.3986 - accuracy: 0.0610 - mse: 4.3986 - mae: 1.5207 - val_loss: 4.1498 - val_accuracy: 0.1039 - val_mse: 4.1498 - val_mae: 1.4386\n",
      "Epoch 71/100\n",
      "8/8 - 0s - loss: 4.3225 - accuracy: 0.0610 - mse: 4.3225 - mae: 1.4885 - val_loss: 8.6149 - val_accuracy: 0.1039 - val_mse: 8.6149 - val_mae: 2.2558\n",
      "Epoch 72/100\n",
      "8/8 - 0s - loss: 7.2144 - accuracy: 0.0610 - mse: 7.2144 - mae: 1.8857 - val_loss: 9.9591 - val_accuracy: 0.0909 - val_mse: 9.9591 - val_mae: 2.3152\n",
      "Epoch 73/100\n",
      "8/8 - 0s - loss: 8.3297 - accuracy: 0.0610 - mse: 8.3297 - mae: 2.0656 - val_loss: 4.9931 - val_accuracy: 0.1039 - val_mse: 4.9931 - val_mae: 1.6955\n",
      "Epoch 74/100\n",
      "8/8 - 0s - loss: 4.2227 - accuracy: 0.0650 - mse: 4.2227 - mae: 1.4885 - val_loss: 3.5272 - val_accuracy: 0.1039 - val_mse: 3.5272 - val_mae: 1.3449\n",
      "Epoch 75/100\n",
      "8/8 - 0s - loss: 4.6336 - accuracy: 0.0569 - mse: 4.6336 - mae: 1.5212 - val_loss: 4.4481 - val_accuracy: 0.1039 - val_mse: 4.4481 - val_mae: 1.3770\n",
      "Epoch 76/100\n",
      "8/8 - 0s - loss: 4.1402 - accuracy: 0.0569 - mse: 4.1402 - mae: 1.4807 - val_loss: 5.0841 - val_accuracy: 0.1039 - val_mse: 5.0841 - val_mae: 1.7144\n",
      "Epoch 77/100\n",
      "8/8 - 0s - loss: 5.0100 - accuracy: 0.0569 - mse: 5.0100 - mae: 1.6250 - val_loss: 3.0900 - val_accuracy: 0.1039 - val_mse: 3.0900 - val_mae: 1.2405\n",
      "Epoch 78/100\n",
      "8/8 - 0s - loss: 4.7265 - accuracy: 0.0610 - mse: 4.7265 - mae: 1.5756 - val_loss: 3.0691 - val_accuracy: 0.1039 - val_mse: 3.0691 - val_mae: 1.2728\n",
      "Epoch 79/100\n",
      "8/8 - 0s - loss: 3.4886 - accuracy: 0.0610 - mse: 3.4886 - mae: 1.3042 - val_loss: 2.8310 - val_accuracy: 0.1039 - val_mse: 2.8310 - val_mae: 1.2105\n",
      "Epoch 80/100\n",
      "8/8 - 0s - loss: 3.0718 - accuracy: 0.0610 - mse: 3.0718 - mae: 1.2519 - val_loss: 3.8225 - val_accuracy: 0.1039 - val_mse: 3.8225 - val_mae: 1.4721\n",
      "Epoch 81/100\n",
      "8/8 - 0s - loss: 4.3244 - accuracy: 0.0569 - mse: 4.3244 - mae: 1.5062 - val_loss: 4.0238 - val_accuracy: 0.1039 - val_mse: 4.0238 - val_mae: 1.3758\n",
      "Epoch 82/100\n",
      "8/8 - 0s - loss: 4.9173 - accuracy: 0.0569 - mse: 4.9173 - mae: 1.5431 - val_loss: 3.0099 - val_accuracy: 0.1039 - val_mse: 3.0099 - val_mae: 1.2894\n",
      "Epoch 83/100\n",
      "8/8 - 0s - loss: 3.6093 - accuracy: 0.0569 - mse: 3.6093 - mae: 1.4269 - val_loss: 2.6674 - val_accuracy: 0.1039 - val_mse: 2.6674 - val_mae: 1.2020\n",
      "Epoch 84/100\n",
      "8/8 - 0s - loss: 2.5815 - accuracy: 0.0610 - mse: 2.5815 - mae: 1.1779 - val_loss: 2.3962 - val_accuracy: 0.1039 - val_mse: 2.3962 - val_mae: 1.1058\n",
      "Epoch 85/100\n",
      "8/8 - 0s - loss: 2.7094 - accuracy: 0.0650 - mse: 2.7094 - mae: 1.2204 - val_loss: 2.9161 - val_accuracy: 0.1039 - val_mse: 2.9161 - val_mae: 1.1537\n",
      "Epoch 86/100\n",
      "8/8 - 0s - loss: 3.2360 - accuracy: 0.0610 - mse: 3.2360 - mae: 1.3077 - val_loss: 2.5203 - val_accuracy: 0.1039 - val_mse: 2.5203 - val_mae: 1.1734\n",
      "Epoch 87/100\n",
      "8/8 - 0s - loss: 4.7466 - accuracy: 0.0610 - mse: 4.7466 - mae: 1.6356 - val_loss: 4.0717 - val_accuracy: 0.1039 - val_mse: 4.0717 - val_mae: 1.4518\n",
      "Epoch 88/100\n",
      "8/8 - 0s - loss: 6.6934 - accuracy: 0.0610 - mse: 6.6934 - mae: 1.9272 - val_loss: 3.5911 - val_accuracy: 0.1039 - val_mse: 3.5911 - val_mae: 1.4142\n",
      "Epoch 89/100\n",
      "8/8 - 0s - loss: 4.4570 - accuracy: 0.0650 - mse: 4.4570 - mae: 1.5336 - val_loss: 2.0088 - val_accuracy: 0.1039 - val_mse: 2.0088 - val_mae: 1.0268\n",
      "Epoch 90/100\n",
      "8/8 - 0s - loss: 3.0528 - accuracy: 0.0610 - mse: 3.0528 - mae: 1.2903 - val_loss: 2.1532 - val_accuracy: 0.1039 - val_mse: 2.1532 - val_mae: 1.0864\n",
      "Epoch 91/100\n",
      "8/8 - 0s - loss: 3.3905 - accuracy: 0.0650 - mse: 3.3905 - mae: 1.3151 - val_loss: 1.8620 - val_accuracy: 0.1039 - val_mse: 1.8620 - val_mae: 1.0006\n",
      "Epoch 92/100\n",
      "8/8 - 0s - loss: 2.3905 - accuracy: 0.0610 - mse: 2.3905 - mae: 1.1242 - val_loss: 3.7069 - val_accuracy: 0.1039 - val_mse: 3.7069 - val_mae: 1.4382\n",
      "Epoch 93/100\n",
      "8/8 - 0s - loss: 3.4264 - accuracy: 0.0650 - mse: 3.4264 - mae: 1.3634 - val_loss: 3.1026 - val_accuracy: 0.1039 - val_mse: 3.1026 - val_mae: 1.2743\n",
      "Epoch 94/100\n",
      "8/8 - 0s - loss: 2.9203 - accuracy: 0.0650 - mse: 2.9203 - mae: 1.2425 - val_loss: 2.4587 - val_accuracy: 0.1039 - val_mse: 2.4587 - val_mae: 1.1636\n",
      "Epoch 95/100\n",
      "8/8 - 0s - loss: 2.5223 - accuracy: 0.0650 - mse: 2.5223 - mae: 1.1561 - val_loss: 3.1107 - val_accuracy: 0.1039 - val_mse: 3.1107 - val_mae: 1.3101\n",
      "Epoch 96/100\n",
      "8/8 - 0s - loss: 2.1488 - accuracy: 0.0650 - mse: 2.1488 - mae: 1.0420 - val_loss: 1.6693 - val_accuracy: 0.1039 - val_mse: 1.6693 - val_mae: 0.9559\n",
      "Epoch 97/100\n",
      "8/8 - 0s - loss: 2.5947 - accuracy: 0.0650 - mse: 2.5947 - mae: 1.1883 - val_loss: 1.7426 - val_accuracy: 0.1039 - val_mse: 1.7426 - val_mae: 0.9491\n",
      "Epoch 98/100\n",
      "8/8 - 0s - loss: 3.4625 - accuracy: 0.0610 - mse: 3.4625 - mae: 1.3240 - val_loss: 1.7069 - val_accuracy: 0.1039 - val_mse: 1.7069 - val_mae: 0.9661\n",
      "Epoch 99/100\n",
      "8/8 - 0s - loss: 4.6878 - accuracy: 0.0650 - mse: 4.6878 - mae: 1.5369 - val_loss: 3.1418 - val_accuracy: 0.1039 - val_mse: 3.1418 - val_mae: 1.3115\n",
      "Epoch 100/100\n",
      "8/8 - 0s - loss: 3.9716 - accuracy: 0.0610 - mse: 3.9716 - mae: 1.4640 - val_loss: 3.4810 - val_accuracy: 0.1039 - val_mse: 3.4810 - val_mae: 1.3921\n"
     ]
    }
   ],
   "source": [
    "history = modl.fit(\n",
    "    x_train, \n",
    "    y_train, \n",
    "    batch_size=32, \n",
    "    epochs=100, verbose=2, \n",
    "    callbacks=None,\n",
    "    validation_data=(x_test, y_test))"
   ]
  },
  {
   "cell_type": "code",
   "execution_count": 31,
   "id": "52a46b83",
   "metadata": {},
   "outputs": [
    {
     "name": "stdout",
     "output_type": "stream",
     "text": [
      "3/3 - 0s - loss: 3.4810 - accuracy: 0.1039 - mse: 3.4810 - mae: 1.3921\n"
     ]
    }
   ],
   "source": [
    "test_loss = history.history['loss']\n",
    "test_val_loss = history.history['val_loss']\n",
    "test_accu = history.history['accuracy']\n",
    "test_val_accu = history.history['val_accuracy']\n",
    "test_mse = history.history['mse']\n",
    "test_val_mse = history.history['val_mse']\n",
    "test_mae = history.history['mae']\n",
    "test_val_mae = history.history['val_mae']\n",
    "test_los, test_acc, _, __ = modl.evaluate(x_test, y_test, verbose=2)"
   ]
  },
  {
   "cell_type": "code",
   "execution_count": 32,
   "id": "cf5445a8",
   "metadata": {},
   "outputs": [
    {
     "data": {
      "image/png": "[encoded data removed]",
      "text/plain": [
       "<Figure size 576x360 with 1 Axes>"
      ]
     },
     "metadata": {
      "needs_background": "light"
     },
     "output_type": "display_data"
    },
    {
     "data": {
      "image/png": "[encoded data removed]",
      "text/plain": [
       "<Figure size 576x360 with 1 Axes>"
      ]
     },
     "metadata": {
      "needs_background": "light"
     },
     "output_type": "display_data"
    },
    {
     "data": {
      "image/png": "[encoded data removed]",
      "text/plain": [
       "<Figure size 576x360 with 1 Axes>"
      ]
     },
     "metadata": {
      "needs_background": "light"
     },
     "output_type": "display_data"
    },
    {
     "data": {
      "image/png": "[encoded data removed]",
      "text/plain": [
       "<Figure size 576x360 with 1 Axes>"
      ]
     },
     "metadata": {
      "needs_background": "light"
     },
     "output_type": "display_data"
    }
   ],
   "source": [
    "plt.figure(figsize = (8,5))\n",
    "plt.plot(train_mse, label='Train', linewidth = 2)\n",
    "plt.plot(test_mse, label='Test', linewidth = 2)\n",
    "plt.title('MSE', fontsize=12)\n",
    "plt.xlabel('epochs', fontsize=12)\n",
    "plt.ylabel('accuracy', fontsize=12)\n",
    "plt.legend(loc = \"best\", fontsize=12)\n",
    "plt.show()\n",
    "\n",
    "plt.figure(figsize = (8,5))\n",
    "plt.plot(train_mae, label='Train', linewidth = 2)\n",
    "plt.plot(test_mae, label='Test', linewidth = 2)\n",
    "plt.title('MAE', fontsize=12)\n",
    "plt.xlabel('epochs', fontsize=12)\n",
    "plt.ylabel('accuracy', fontsize=12)\n",
    "plt.legend(loc = \"best\", fontsize=12)\n",
    "plt.show()\n",
    "\n",
    "plt.figure(figsize = (8,5))\n",
    "plt.plot(train_loss, label='Train', linewidth = 2)\n",
    "plt.plot(test_loss, label='Test', linewidth = 2)\n",
    "plt.title('Model Loss', fontsize=12)\n",
    "plt.xlabel('epochs', fontsize=12)\n",
    "plt.ylabel('loss', fontsize=12)\n",
    "plt.legend(loc = \"best\", fontsize=12)\n",
    "plt.show()\n",
    "\n",
    "plt.figure(figsize = (8,5))\n",
    "plt.plot(train_accu, label='Train', linewidth = 2)\n",
    "plt.plot(test_accu, label='Test', linewidth = 2)\n",
    "plt.title('Model Accuracy', fontsize=12)\n",
    "plt.xlabel('epochs', fontsize=12)\n",
    "plt.ylabel('accuracy', fontsize=12)\n",
    "plt.legend(loc = \"best\", fontsize=12)\n",
    "plt.show()"
   ]
  },
  {
   "cell_type": "markdown",
   "id": "89ffc3c4",
   "metadata": {},
   "source": [
    "# Error calculations"
   ]
  },
  {
   "cell_type": "code",
   "execution_count": 33,
   "id": "53ffe940",
   "metadata": {},
   "outputs": [],
   "source": [
    "me = sm.max_error(y_test, y_predicted)\n",
    "mae = sm.mean_absolute_error(y_test, y_predicted)\n",
    "mse = sm.mean_squared_error(y_test, y_predicted)\n",
    "mape = sm.mean_absolute_percentage_error(y_test, y_predicted)\n",
    "rmse = mse ** 0.5"
   ]
  },
  {
   "cell_type": "code",
   "execution_count": 34,
   "id": "9caa3290",
   "metadata": {},
   "outputs": [
    {
     "name": "stdout",
     "output_type": "stream",
     "text": [
      "Maximum Error:  5.233333333333334\n",
      "Mean absolute error = 1.0268398268398269\n",
      "Mean absolute percentage error = 0.21584587376899184\n",
      "Mean squared error = 2.0331313131313133\n",
      "Root Mean squared error = 1.4258791369296744\n",
      "R2 score = 0.9535040941627431\n",
      "ROC curvce accuracy = 0.8421052631578948\n",
      "Training loss = 48.337379455566406\n",
      "Training accuracy = 0.04065040498971939\n",
      "Teting loss = 3.481027603149414\n",
      "Testing accuracy = 0.10389610379934311\n"
     ]
    }
   ],
   "source": [
    "print('Maximum Error: ', me)\n",
    "print('Mean absolute error =', mae)\n",
    "print('Mean absolute percentage error =', mape)\n",
    "print('Mean squared error =', mse)\n",
    "print('Root Mean squared error =', rmse)\n",
    "print('R2 score =', r2)\n",
    "print('ROC curvce accuracy =', roc_auc)\n",
    "print('Training loss =', train_los)\n",
    "print('Training accuracy =', train_acc)\n",
    "print('Teting loss =', test_los)\n",
    "print('Testing accuracy =', test_acc)"
   ]
  },
  {
   "cell_type": "code",
   "execution_count": 35,
   "id": "04add732",
   "metadata": {},
   "outputs": [],
   "source": [
    "data = {'Values':  [me, mae, mape, mse, rmse, r2, roc_auc, train_los, train_acc, test_los, test_acc]}\n",
    "table = pd.DataFrame (data, columns = ['Values'])\n",
    "table.index = ['ME', 'MAE', 'MAPE', 'MSE', 'RMSE', 'R2', 'ROC ACCURACY', 'TRAIN LOSS', \"TEST LOSS\", 'TRAIN ACCURACY', 'TEST ACCURACY']"
   ]
  },
  {
   "cell_type": "code",
   "execution_count": 36,
   "id": "b6491d10",
   "metadata": {},
   "outputs": [
    {
     "data": {
      "text/html": [
       "<div>\n",
       "<style scoped>\n",
       "    .dataframe tbody tr th:only-of-type {\n",
       "        vertical-align: middle;\n",
       "    }\n",
       "\n",
       "    .dataframe tbody tr th {\n",
       "        vertical-align: top;\n",
       "    }\n",
       "\n",
       "    .dataframe thead th {\n",
       "        text-align: right;\n",
       "    }\n",
       "</style>\n",
       "<table border=\"1\" class=\"dataframe\">\n",
       "  <thead>\n",
       "    <tr style=\"text-align: right;\">\n",
       "      <th></th>\n",
       "      <th>Values</th>\n",
       "    </tr>\n",
       "  </thead>\n",
       "  <tbody>\n",
       "    <tr>\n",
       "      <th>ME</th>\n",
       "      <td>5.233333</td>\n",
       "    </tr>\n",
       "    <tr>\n",
       "      <th>MAE</th>\n",
       "      <td>1.026840</td>\n",
       "    </tr>\n",
       "    <tr>\n",
       "      <th>MAPE</th>\n",
       "      <td>0.215846</td>\n",
       "    </tr>\n",
       "    <tr>\n",
       "      <th>MSE</th>\n",
       "      <td>2.033131</td>\n",
       "    </tr>\n",
       "    <tr>\n",
       "      <th>RMSE</th>\n",
       "      <td>1.425879</td>\n",
       "    </tr>\n",
       "    <tr>\n",
       "      <th>R2</th>\n",
       "      <td>0.953504</td>\n",
       "    </tr>\n",
       "    <tr>\n",
       "      <th>ROC ACCURACY</th>\n",
       "      <td>0.842105</td>\n",
       "    </tr>\n",
       "    <tr>\n",
       "      <th>TRAIN LOSS</th>\n",
       "      <td>48.337379</td>\n",
       "    </tr>\n",
       "    <tr>\n",
       "      <th>TEST LOSS</th>\n",
       "      <td>0.040650</td>\n",
       "    </tr>\n",
       "    <tr>\n",
       "      <th>TRAIN ACCURACY</th>\n",
       "      <td>3.481028</td>\n",
       "    </tr>\n",
       "    <tr>\n",
       "      <th>TEST ACCURACY</th>\n",
       "      <td>0.103896</td>\n",
       "    </tr>\n",
       "  </tbody>\n",
       "</table>\n",
       "</div>"
      ],
      "text/plain": [
       "                   Values\n",
       "ME               5.233333\n",
       "MAE              1.026840\n",
       "MAPE             0.215846\n",
       "MSE              2.033131\n",
       "RMSE             1.425879\n",
       "R2               0.953504\n",
       "ROC ACCURACY     0.842105\n",
       "TRAIN LOSS      48.337379\n",
       "TEST LOSS        0.040650\n",
       "TRAIN ACCURACY   3.481028\n",
       "TEST ACCURACY    0.103896"
      ]
     },
     "execution_count": 36,
     "metadata": {},
     "output_type": "execute_result"
    }
   ],
   "source": [
    "table"
   ]
  },
  {
   "cell_type": "code",
   "execution_count": 37,
   "id": "6847733d",
   "metadata": {},
   "outputs": [],
   "source": [
    "y_predicted_test = model.predict([[3054,36,9,4,0,0,43,3,0,0.38,0.12,0.27,6]])"
   ]
  },
  {
   "cell_type": "code",
   "execution_count": 38,
   "id": "26d359c4",
   "metadata": {},
   "outputs": [
    {
     "data": {
      "text/plain": [
       "array([20.3])"
      ]
     },
     "execution_count": 38,
     "metadata": {},
     "output_type": "execute_result"
    }
   ],
   "source": [
    "y_predicted_test"
   ]
  },
  {
   "cell_type": "code",
   "execution_count": null,
   "id": "8f4a44a1",
   "metadata": {},
   "outputs": [],
   "source": []
  }
 ],
 "metadata": {
  "kernelspec": {
   "display_name": "Python 3 (ipykernel)",
   "language": "python",
   "name": "python3"
  },
  "language_info": {
   "codemirror_mode": {
    "name": "ipython",
    "version": 3
   },
   "file_extension": ".py",
   "mimetype": "text/x-python",
   "name": "python",
   "nbconvert_exporter": "python",
   "pygments_lexer": "ipython3",
   "version": "3.7.10"
  }
 },
 "nbformat": 4,
 "nbformat_minor": 5
}
